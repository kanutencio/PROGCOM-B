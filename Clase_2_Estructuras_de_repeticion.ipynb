{
  "nbformat": 4,
  "nbformat_minor": 0,
  "metadata": {
    "colab": {
      "provenance": [],
      "authorship_tag": "ABX9TyNtCBuggTdN+lFqvTaWwq9j",
      "include_colab_link": true
    },
    "kernelspec": {
      "name": "python3",
      "display_name": "Python 3"
    },
    "language_info": {
      "name": "python"
    }
  },
  "cells": [
    {
      "cell_type": "markdown",
      "metadata": {
        "id": "view-in-github",
        "colab_type": "text"
      },
      "source": [
        "<a href=\"https://colab.research.google.com/github/kanutencio/PROGCOM-B/blob/main/Clase_2_Estructuras_de_repeticion.ipynb\" target=\"_parent\"><img src=\"https://colab.research.google.com/assets/colab-badge.svg\" alt=\"Open In Colab\"/></a>"
      ]
    },
    {
      "cell_type": "markdown",
      "source": [
        "#Estructuras de repeticion\n",
        "se emplea cuando se desea repetir una parte del codigo, dada una condicion"
      ],
      "metadata": {
        "id": "zE8W9JKSlIf9"
      }
    },
    {
      "cell_type": "markdown",
      "source": [
        "#Estructura para - for\n",
        "\n",
        "se usa cuando:\n",
        "\n",
        "*   se sabe cuantas veces se va a repetir una accion.\n",
        "*   se tiene un contador que me dice cuanta veces se ha repetido el codigo.\n",
        "*   condicion evalua cuando se detiene.\n",
        "\n",
        "por definicion\n",
        "```\n",
        "for variable in range(vi, vf+1, paso):\n",
        "  aqui se repite parte del codigo\n",
        "```\n",
        "donde:\n",
        "* vi: condicion inicial donde arranca el contaodr\n",
        "* vf+1: condicion\n",
        "* paso: frecuencia de conteo\n",
        "\n",
        "##for para recorrido de listas\n",
        "\n",
        "```\n",
        "flor = [\"amapola\",\"rosa\",\"tulipan\",\"orquidia\"]\n",
        "```\n",
        "\n",
        "* El para va a iterar tantas veces como elementos tenga la lista\n",
        "* la variable dentro del for toma como valor cada elemento de la lista\n",
        "\n",
        "\n"
      ],
      "metadata": {
        "id": "9a4TDvDLltRU"
      }
    },
    {
      "cell_type": "code",
      "source": [
        "#Creaacion de una lista de nombre flor\n",
        "flor = [\"amapola\",\"rosa\",\"tulipan\",\"orquidia\"]\n",
        "for rosa in flor:\n",
        "  print(rosa)"
      ],
      "metadata": {
        "colab": {
          "base_uri": "https://localhost:8080/"
        },
        "id": "tIhOKrCK0uGD",
        "outputId": "11e7f4da-602f-4a5a-dfc3-8cce0de5790f"
      },
      "execution_count": null,
      "outputs": [
        {
          "output_type": "stream",
          "name": "stdout",
          "text": [
            "amapola\n",
            "rosa\n",
            "tulipan\n",
            "orquidia\n"
          ]
        }
      ]
    },
    {
      "cell_type": "markdown",
      "source": [
        "##Listas\n",
        "\n",
        "* Son un conjunto de objetos, **indexado**, separados por comas (,) y cerrados entre [].\n",
        "* Todos los elementos de una lista empiezan en 0\n",
        "\n",
        "\n",
        "\n",
        "```\n",
        "lista = [0,1,2,3,\"etc\"]\n",
        "```\n",
        "\n",
        "##creacion de listas\n",
        "* Forma general: listas=[]\n",
        "* Forma manueal: animales=[\"gato\",\"perro\",zorro,\"oso\"]\n",
        "* Por conversion: numero=list(range(10))"
      ],
      "metadata": {
        "id": "KZ0gal46v8oG"
      }
    },
    {
      "cell_type": "code",
      "source": [
        "#ejemplo de listas\n",
        "zorro = (1,2,\"si\",True)\n",
        "lista = [\"gato\",\"perro\",zorro,\"oso\"]\n",
        "print(lista)"
      ],
      "metadata": {
        "colab": {
          "base_uri": "https://localhost:8080/"
        },
        "id": "eT6EMmk1x_ME",
        "outputId": "7de15dc9-eea6-4dbb-b68f-d3fdd8e263bf"
      },
      "execution_count": null,
      "outputs": [
        {
          "output_type": "stream",
          "name": "stdout",
          "text": [
            "['gato', 'perro', (1, 2, 'si', True), 'oso']\n"
          ]
        }
      ]
    },
    {
      "cell_type": "code",
      "source": [
        "numero = list(range(10))\n",
        "print(numero)"
      ],
      "metadata": {
        "colab": {
          "base_uri": "https://localhost:8080/"
        },
        "id": "fPMElOncy-eW",
        "outputId": "c9105683-ef64-40eb-daaf-5ffaebe936fe"
      },
      "execution_count": null,
      "outputs": [
        {
          "output_type": "stream",
          "name": "stdout",
          "text": [
            "[0, 1, 2, 3, 4, 5, 6, 7, 8, 9]\n"
          ]
        }
      ]
    },
    {
      "cell_type": "markdown",
      "source": [
        "#Estructura while\n",
        "* Se emplea cuando **NO SE SABE** cuantas veces se debe repetir una accion, pero si se conoce su condicion de parada (CP).\n",
        "\n",
        "* Condicion inicial (CP): donde arranca el ciclo\n",
        "* condicion final (parada): que indica donde se detiene el modificador\n",
        "* Modificador de condicion inicial\n",
        "\n",
        "Estructura general del mientras\n",
        "\n",
        "\n",
        "\n",
        "```\n",
        "condicion inicial\n",
        "while (condicion inicial == condicion final):\n",
        "  modificador del condicion final\n",
        "```\n",
        "\n",
        "modificadores de condicion inicial:\n",
        "* Banderas: son booleanos\n",
        "* Contadores o acumuladores.\n"
      ],
      "metadata": {
        "id": "54bEVj4f2Xe1"
      }
    }
  ]
}