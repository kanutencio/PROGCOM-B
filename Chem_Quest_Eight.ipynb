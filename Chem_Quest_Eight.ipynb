{
  "nbformat": 4,
  "nbformat_minor": 0,
  "metadata": {
    "colab": {
      "provenance": [],
      "authorship_tag": "ABX9TyMSB2SfULB8uzYzm0zaTmoS",
      "include_colab_link": true
    },
    "kernelspec": {
      "name": "python3",
      "display_name": "Python 3"
    },
    "language_info": {
      "name": "python"
    }
  },
  "cells": [
    {
      "cell_type": "markdown",
      "metadata": {
        "id": "view-in-github",
        "colab_type": "text"
      },
      "source": [
        "<a href=\"https://colab.research.google.com/github/SantiagoLizarazo/PROGCOM-B/blob/main/Chem_Quest_Eight.ipynb\" target=\"_parent\"><img src=\"https://colab.research.google.com/assets/colab-badge.svg\" alt=\"Open In Colab\"/></a>"
      ]
    },
    {
      "cell_type": "markdown",
      "source": [
        "##Repositorio de Errores Comunes en Python."
      ],
      "metadata": {
        "id": "GXTIzJJm3YF7"
      }
    },
    {
      "cell_type": "markdown",
      "source": [
        "###1. IdentationError\n",
        "Este error es específico de Python y ocurre cuando las líneas de código no están correctamente indentadas. Python usa la indentación para definir el alcance de los bloques de código, como los bucles for, las funciones def o las declaraciones if-else."
      ],
      "metadata": {
        "id": "wkW95uqi3hAV"
      }
    },
    {
      "cell_type": "code",
      "execution_count": null,
      "metadata": {
        "colab": {
          "base_uri": "https://localhost:8080/",
          "height": 106
        },
        "id": "DQDibk2e3S8v",
        "outputId": "39fa0512-59fe-4dcc-e195-907d94855626"
      },
      "outputs": [
        {
          "output_type": "error",
          "ename": "IndentationError",
          "evalue": "expected an indented block after function definition on line 1 (ipython-input-1934541753.py, line 2)",
          "traceback": [
            "\u001b[0;36m  File \u001b[0;32m\"/tmp/ipython-input-1934541753.py\"\u001b[0;36m, line \u001b[0;32m2\u001b[0m\n\u001b[0;31m    print(\"Hola, mundo\")\u001b[0m\n\u001b[0m    ^\u001b[0m\n\u001b[0;31mIndentationError\u001b[0m\u001b[0;31m:\u001b[0m expected an indented block after function definition on line 1\n"
          ]
        }
      ],
      "source": [
        "def saludar():\n",
        "print(\"Hola, mundo\")"
      ]
    },
    {
      "cell_type": "markdown",
      "source": [
        "La línea print no está indentada, por lo que el intérprete no la reconoce como parte de la función saludar().\n",
        "\n",
        "Simplemente, se añade la indentación correcta (generalmente 4 espacios) a la línea que pertenece al bloque."
      ],
      "metadata": {
        "id": "PCpUxxX55QtH"
      }
    },
    {
      "cell_type": "code",
      "source": [
        "def saludar():\n",
        "  print(\"Hola, mundo\")"
      ],
      "metadata": {
        "id": "mMGFUq7j37Pd"
      },
      "execution_count": null,
      "outputs": []
    },
    {
      "cell_type": "markdown",
      "source": [
        "###2. SyntaxError\n",
        "Se produce cuando el código tiene un error de sintaxis, es decir, no sigue las reglas gramaticales del lenguaje. Puede ser un paréntesis o una comilla faltante, una palabra clave mal escrita, etc. Es uno de los errores más fáciles de detectar porque el intérprete lo señala de inmediato."
      ],
      "metadata": {
        "id": "1QZhSevW4LH_"
      }
    },
    {
      "cell_type": "code",
      "source": [
        "print(\"Hola, mundo'"
      ],
      "metadata": {
        "colab": {
          "base_uri": "https://localhost:8080/",
          "height": 106
        },
        "id": "SWW1L8hT4ZSZ",
        "outputId": "1a8edf17-f460-4aef-80bf-6378b99782be"
      },
      "execution_count": null,
      "outputs": [
        {
          "output_type": "error",
          "ename": "SyntaxError",
          "evalue": "unterminated string literal (detected at line 1) (ipython-input-986670589.py, line 1)",
          "traceback": [
            "\u001b[0;36m  File \u001b[0;32m\"/tmp/ipython-input-986670589.py\"\u001b[0;36m, line \u001b[0;32m1\u001b[0m\n\u001b[0;31m    print(\"Hola, mundo'\u001b[0m\n\u001b[0m          ^\u001b[0m\n\u001b[0;31mSyntaxError\u001b[0m\u001b[0;31m:\u001b[0m unterminated string literal (detected at line 1)\n"
          ]
        }
      ]
    },
    {
      "cell_type": "markdown",
      "source": [
        " La cadena de texto no está cerrada correctamente con la misma comilla de inicio (\").\n",
        "\n",
        " Hay que asegurarse de que todos los elementos del código, como paréntesis, corchetes y comillas, estén correctamente cerrados."
      ],
      "metadata": {
        "id": "k9jXLZCs5QFL"
      }
    },
    {
      "cell_type": "code",
      "source": [
        "print(\"Hola, mundo\")"
      ],
      "metadata": {
        "colab": {
          "base_uri": "https://localhost:8080/"
        },
        "id": "crGAJTjo4ZvH",
        "outputId": "a2975ca4-93fa-478e-efa9-0f9b10e25abf"
      },
      "execution_count": null,
      "outputs": [
        {
          "output_type": "stream",
          "name": "stdout",
          "text": [
            "Hola, mundo\n"
          ]
        }
      ]
    },
    {
      "cell_type": "markdown",
      "source": [
        "###3. NameError\n",
        "Ocurre cuando intentas usar una variable o una función que no ha sido definida o a la que no se puede acceder en el ámbito actual. En otras palabras, Python no sabe a qué te refieres con ese nombre."
      ],
      "metadata": {
        "id": "F6SnQk5M4Mrf"
      }
    },
    {
      "cell_type": "code",
      "source": [
        "mensaje = \"Hola, mundo\"\n",
        "print(memsaje)"
      ],
      "metadata": {
        "colab": {
          "base_uri": "https://localhost:8080/",
          "height": 159
        },
        "id": "QN-DOkJ04qWK",
        "outputId": "14d94a9e-75b4-42b4-bd70-4582285452a6"
      },
      "execution_count": null,
      "outputs": [
        {
          "output_type": "error",
          "ename": "NameError",
          "evalue": "name 'memsaje' is not defined",
          "traceback": [
            "\u001b[0;31m---------------------------------------------------------------------------\u001b[0m",
            "\u001b[0;31mNameError\u001b[0m                                 Traceback (most recent call last)",
            "\u001b[0;32m/tmp/ipython-input-1221490351.py\u001b[0m in \u001b[0;36m<cell line: 0>\u001b[0;34m()\u001b[0m\n\u001b[1;32m      1\u001b[0m \u001b[0mmensaje\u001b[0m \u001b[0;34m=\u001b[0m \u001b[0;34m\"Hola, mundo\"\u001b[0m\u001b[0;34m\u001b[0m\u001b[0;34m\u001b[0m\u001b[0m\n\u001b[0;32m----> 2\u001b[0;31m \u001b[0mprint\u001b[0m\u001b[0;34m(\u001b[0m\u001b[0mmemsaje\u001b[0m\u001b[0;34m)\u001b[0m\u001b[0;34m\u001b[0m\u001b[0;34m\u001b[0m\u001b[0m\n\u001b[0m",
            "\u001b[0;31mNameError\u001b[0m: name 'memsaje' is not defined"
          ]
        }
      ]
    },
    {
      "cell_type": "markdown",
      "source": [
        "Se intentó imprimir la variable memsaje, pero esta no ha sido definida. La variable correcta es mensaje.\n",
        "\n",
        "Revisar la ortografía de las variables y asegúrarse de que se hayan inicializado antes de ser utilizadas."
      ],
      "metadata": {
        "id": "HkHwOzR15PZl"
      }
    },
    {
      "cell_type": "code",
      "source": [
        "mensaje = \"Hola, mundo\"\n",
        "print(mensaje)"
      ],
      "metadata": {
        "colab": {
          "base_uri": "https://localhost:8080/"
        },
        "id": "d5kE9ETc4qPs",
        "outputId": "dfc7fad6-39aa-49c4-ffb2-a8442b04e8b6"
      },
      "execution_count": null,
      "outputs": [
        {
          "output_type": "stream",
          "name": "stdout",
          "text": [
            "Hola, mundo\n"
          ]
        }
      ]
    },
    {
      "cell_type": "markdown",
      "source": [
        "###4. TypeError\n",
        "Este error se lanza cuando una operación o función se aplica a un objeto de un tipo incompatible. Python, al ser un lenguaje de tipado dinámico, es flexible, pero ciertas operaciones requieren tipos específicos (por ejemplo, no puedes sumar un número a una cadena de texto)."
      ],
      "metadata": {
        "id": "QqwYtn1l4NbN"
      }
    },
    {
      "cell_type": "code",
      "source": [
        "nombre = \"Ana\"\n",
        "edad = 25\n",
        "print(nombre + edad)"
      ],
      "metadata": {
        "colab": {
          "base_uri": "https://localhost:8080/",
          "height": 176
        },
        "id": "i-lmyB5Y4p1m",
        "outputId": "d3783c70-bb92-47a9-b0d6-148fe2d12d71"
      },
      "execution_count": null,
      "outputs": [
        {
          "output_type": "error",
          "ename": "TypeError",
          "evalue": "can only concatenate str (not \"int\") to str",
          "traceback": [
            "\u001b[0;31m---------------------------------------------------------------------------\u001b[0m",
            "\u001b[0;31mTypeError\u001b[0m                                 Traceback (most recent call last)",
            "\u001b[0;32m/tmp/ipython-input-2111885748.py\u001b[0m in \u001b[0;36m<cell line: 0>\u001b[0;34m()\u001b[0m\n\u001b[1;32m      1\u001b[0m \u001b[0mnombre\u001b[0m \u001b[0;34m=\u001b[0m \u001b[0;34m\"Ana\"\u001b[0m\u001b[0;34m\u001b[0m\u001b[0;34m\u001b[0m\u001b[0m\n\u001b[1;32m      2\u001b[0m \u001b[0medad\u001b[0m \u001b[0;34m=\u001b[0m \u001b[0;36m25\u001b[0m\u001b[0;34m\u001b[0m\u001b[0;34m\u001b[0m\u001b[0m\n\u001b[0;32m----> 3\u001b[0;31m \u001b[0mprint\u001b[0m\u001b[0;34m(\u001b[0m\u001b[0mnombre\u001b[0m \u001b[0;34m+\u001b[0m \u001b[0medad\u001b[0m\u001b[0;34m)\u001b[0m\u001b[0;34m\u001b[0m\u001b[0;34m\u001b[0m\u001b[0m\n\u001b[0m",
            "\u001b[0;31mTypeError\u001b[0m: can only concatenate str (not \"int\") to str"
          ]
        }
      ]
    },
    {
      "cell_type": "markdown",
      "source": [
        "El operador + no puede concatenar una cadena (str) y un entero (int). Python no sabe si quieres que el resultado sea un número o una cadena.\n",
        "\n",
        "Convierte el número a una cadena de texto antes de concatenarlo o usa f-strings, que son la forma moderna y más legible de formatear cadenas."
      ],
      "metadata": {
        "id": "DS8GG2CO5Oxs"
      }
    },
    {
      "cell_type": "code",
      "source": [
        "nombre = \"Ana\"\n",
        "edad = 25\n",
        "print(f\"{nombre} tiene {edad} años\")"
      ],
      "metadata": {
        "colab": {
          "base_uri": "https://localhost:8080/"
        },
        "id": "xpX3opd74psr",
        "outputId": "5cfd08ee-80f9-4a61-8917-bd9d50c6992d"
      },
      "execution_count": null,
      "outputs": [
        {
          "output_type": "stream",
          "name": "stdout",
          "text": [
            "Ana tiene 25 años\n"
          ]
        }
      ]
    },
    {
      "cell_type": "markdown",
      "source": [
        "###5. IndexError\n",
        "Este error ocurre cuando intentas acceder a un índice de una lista, tupla o cadena que no existe. Los índices en Python siempre comienzan en 0 y terminan en longitud-1."
      ],
      "metadata": {
        "id": "RInHRX4s4NiD"
      }
    },
    {
      "cell_type": "code",
      "source": [
        "frutas = [\"manzana\", \"banana\", \"cereza\"]\n",
        "print(frutas[3])"
      ],
      "metadata": {
        "colab": {
          "base_uri": "https://localhost:8080/",
          "height": 159
        },
        "id": "_XSDg3iH4pSW",
        "outputId": "12b3af43-091d-4cbd-fc48-23122d61357d"
      },
      "execution_count": null,
      "outputs": [
        {
          "output_type": "error",
          "ename": "IndexError",
          "evalue": "list index out of range",
          "traceback": [
            "\u001b[0;31m---------------------------------------------------------------------------\u001b[0m",
            "\u001b[0;31mIndexError\u001b[0m                                Traceback (most recent call last)",
            "\u001b[0;32m/tmp/ipython-input-2018341466.py\u001b[0m in \u001b[0;36m<cell line: 0>\u001b[0;34m()\u001b[0m\n\u001b[1;32m      1\u001b[0m \u001b[0mfrutas\u001b[0m \u001b[0;34m=\u001b[0m \u001b[0;34m[\u001b[0m\u001b[0;34m\"manzana\"\u001b[0m\u001b[0;34m,\u001b[0m \u001b[0;34m\"banana\"\u001b[0m\u001b[0;34m,\u001b[0m \u001b[0;34m\"cereza\"\u001b[0m\u001b[0;34m]\u001b[0m\u001b[0;34m\u001b[0m\u001b[0;34m\u001b[0m\u001b[0m\n\u001b[0;32m----> 2\u001b[0;31m \u001b[0mprint\u001b[0m\u001b[0;34m(\u001b[0m\u001b[0mfrutas\u001b[0m\u001b[0;34m[\u001b[0m\u001b[0;36m3\u001b[0m\u001b[0;34m]\u001b[0m\u001b[0;34m)\u001b[0m\u001b[0;34m\u001b[0m\u001b[0;34m\u001b[0m\u001b[0m\n\u001b[0m",
            "\u001b[0;31mIndexError\u001b[0m: list index out of range"
          ]
        }
      ]
    },
    {
      "cell_type": "markdown",
      "source": [
        "La lista frutas tiene 3 elementos, con índices 0, 1, y 2. Al intentar acceder al índice 3, se produce el error porque está fuera de los límites de la lista.\n",
        "\n",
        "Asegúrate de que el índice que utilizas para acceder a un elemento sea válido.\n"
      ],
      "metadata": {
        "id": "-sn4KopG5NlK"
      }
    },
    {
      "cell_type": "code",
      "source": [
        "frutas = [\"manzana\", \"banana\", \"cereza\"]\n",
        "print(frutas[2])"
      ],
      "metadata": {
        "colab": {
          "base_uri": "https://localhost:8080/"
        },
        "id": "SmjFIR684peV",
        "outputId": "ded59af7-c5ca-46e4-d905-00dc70c81856"
      },
      "execution_count": null,
      "outputs": [
        {
          "output_type": "stream",
          "name": "stdout",
          "text": [
            "cereza\n"
          ]
        }
      ]
    },
    {
      "cell_type": "markdown",
      "source": [
        "###6. KeyError\n",
        "Este error ocurre cuando intentas acceder a una clave que no existe en un diccionario. Los diccionarios en Python (dict) almacenan datos en pares de clave-valor, y si la clave que buscas no se encuentra, el intérprete no sabe qué valor devolver."
      ],
      "metadata": {
        "id": "oYcAacDvrQLo"
      }
    },
    {
      "cell_type": "code",
      "source": [
        "calificaciones = {'Juan': 85, 'María': 90}\n",
        "print(calificaciones['Pedro'])"
      ],
      "metadata": {
        "colab": {
          "base_uri": "https://localhost:8080/",
          "height": 159
        },
        "id": "sQcE6rXMrWCF",
        "outputId": "56927e78-b40b-4946-ef0b-4788cd924ff4"
      },
      "execution_count": 1,
      "outputs": [
        {
          "output_type": "error",
          "ename": "KeyError",
          "evalue": "'Pedro'",
          "traceback": [
            "\u001b[0;31m---------------------------------------------------------------------------\u001b[0m",
            "\u001b[0;31mKeyError\u001b[0m                                  Traceback (most recent call last)",
            "\u001b[0;32m/tmp/ipython-input-1323611240.py\u001b[0m in \u001b[0;36m<cell line: 0>\u001b[0;34m()\u001b[0m\n\u001b[1;32m      1\u001b[0m \u001b[0mcalificaciones\u001b[0m \u001b[0;34m=\u001b[0m \u001b[0;34m{\u001b[0m\u001b[0;34m'Juan'\u001b[0m\u001b[0;34m:\u001b[0m \u001b[0;36m85\u001b[0m\u001b[0;34m,\u001b[0m \u001b[0;34m'María'\u001b[0m\u001b[0;34m:\u001b[0m \u001b[0;36m90\u001b[0m\u001b[0;34m}\u001b[0m\u001b[0;34m\u001b[0m\u001b[0;34m\u001b[0m\u001b[0m\n\u001b[0;32m----> 2\u001b[0;31m \u001b[0mprint\u001b[0m\u001b[0;34m(\u001b[0m\u001b[0mcalificaciones\u001b[0m\u001b[0;34m[\u001b[0m\u001b[0;34m'Pedro'\u001b[0m\u001b[0;34m]\u001b[0m\u001b[0;34m)\u001b[0m\u001b[0;34m\u001b[0m\u001b[0;34m\u001b[0m\u001b[0m\n\u001b[0m",
            "\u001b[0;31mKeyError\u001b[0m: 'Pedro'"
          ]
        }
      ]
    },
    {
      "cell_type": "markdown",
      "source": [
        "El diccionario calificaciones no tiene una clave 'Pedro'. Al intentar acceder a ella, Python lanza el error.\n",
        "\n",
        "Antes de acceder a una clave, puedes verificar su existencia con un condicional if o, mejor aún, usar el método .get(), que devuelve un valor por defecto (como None) si la clave no se encuentra, evitando así el error.\n"
      ],
      "metadata": {
        "id": "nPKjvcUlrTp6"
      }
    },
    {
      "cell_type": "code",
      "source": [
        "calificaciones = {'Juan': 85, 'María': 90}\n",
        "if 'Pedro' in calificaciones:\n",
        "    print(calificaciones['Pedro'])\n",
        "else:\n",
        "    print(\"La clave 'Pedro' no está en el diccionario.\")"
      ],
      "metadata": {
        "colab": {
          "base_uri": "https://localhost:8080/"
        },
        "id": "Wt5ocpTIrWSW",
        "outputId": "80747447-97bf-40a0-f729-94df24353ae2"
      },
      "execution_count": 2,
      "outputs": [
        {
          "output_type": "stream",
          "name": "stdout",
          "text": [
            "La clave 'Pedro' no está en el diccionario.\n"
          ]
        }
      ]
    },
    {
      "cell_type": "markdown",
      "source": [
        "###7. AttributeError\n",
        "Se produce cuando intentas llamar a un método o acceder a un atributo que no existe para un tipo de objeto específico. Esto suele ocurrir por un error de tipografía o por intentar usar un método de una clase en un objeto de otra clase."
      ],
      "metadata": {
        "id": "um06wW5NrQp5"
      }
    },
    {
      "cell_type": "code",
      "source": [
        "numeros = [1, 2, 3]\n",
        "numeros.add(4)"
      ],
      "metadata": {
        "colab": {
          "base_uri": "https://localhost:8080/",
          "height": 159
        },
        "id": "H5DLlonurWuv",
        "outputId": "23f750ae-df5b-4d86-a4b7-d642c3fe28b9"
      },
      "execution_count": 3,
      "outputs": [
        {
          "output_type": "error",
          "ename": "AttributeError",
          "evalue": "'list' object has no attribute 'add'",
          "traceback": [
            "\u001b[0;31m---------------------------------------------------------------------------\u001b[0m",
            "\u001b[0;31mAttributeError\u001b[0m                            Traceback (most recent call last)",
            "\u001b[0;32m/tmp/ipython-input-3538792589.py\u001b[0m in \u001b[0;36m<cell line: 0>\u001b[0;34m()\u001b[0m\n\u001b[1;32m      1\u001b[0m \u001b[0mnumeros\u001b[0m \u001b[0;34m=\u001b[0m \u001b[0;34m[\u001b[0m\u001b[0;36m1\u001b[0m\u001b[0;34m,\u001b[0m \u001b[0;36m2\u001b[0m\u001b[0;34m,\u001b[0m \u001b[0;36m3\u001b[0m\u001b[0;34m]\u001b[0m\u001b[0;34m\u001b[0m\u001b[0;34m\u001b[0m\u001b[0m\n\u001b[0;32m----> 2\u001b[0;31m \u001b[0mnumeros\u001b[0m\u001b[0;34m.\u001b[0m\u001b[0madd\u001b[0m\u001b[0;34m(\u001b[0m\u001b[0;36m4\u001b[0m\u001b[0;34m)\u001b[0m\u001b[0;34m\u001b[0m\u001b[0;34m\u001b[0m\u001b[0m\n\u001b[0m",
            "\u001b[0;31mAttributeError\u001b[0m: 'list' object has no attribute 'add'"
          ]
        }
      ]
    },
    {
      "cell_type": "markdown",
      "source": [
        "Las listas en Python no tienen un método llamado .add(). Ese método pertenece a los conjuntos (set). El método correcto para agregar un elemento a una lista es .append().\n",
        "\n",
        "Utiliza el método o atributo que sea válido para el tipo de objeto con el que estás trabajando."
      ],
      "metadata": {
        "id": "U0pqVDPDrT20"
      }
    },
    {
      "cell_type": "code",
      "source": [
        "numeros = [1, 2, 3]\n",
        "numeros.append(4)\n",
        "print(numeros)"
      ],
      "metadata": {
        "colab": {
          "base_uri": "https://localhost:8080/"
        },
        "id": "MMay70wbrXFx",
        "outputId": "0344e461-2d29-4eaf-f946-026e2562a75f"
      },
      "execution_count": 4,
      "outputs": [
        {
          "output_type": "stream",
          "name": "stdout",
          "text": [
            "[1, 2, 3, 4]\n"
          ]
        }
      ]
    },
    {
      "cell_type": "markdown",
      "source": [
        "###8. ValueError\n",
        "Este error ocurre cuando una función recibe un argumento del tipo de dato correcto, pero con un valor inapropiado. A menudo se ve al intentar convertir un string a un número, pero el string no contiene solo dígitos."
      ],
      "metadata": {
        "id": "VriJ5Q0MrQ4q"
      }
    },
    {
      "cell_type": "code",
      "source": [
        "numero_str = \"123a\"\n",
        "numero_int = int(numero_str)"
      ],
      "metadata": {
        "colab": {
          "base_uri": "https://localhost:8080/",
          "height": 159
        },
        "id": "0r-G3l2jrXfy",
        "outputId": "c4155a86-0523-4ee0-aba8-d1fea515eece"
      },
      "execution_count": 5,
      "outputs": [
        {
          "output_type": "error",
          "ename": "ValueError",
          "evalue": "invalid literal for int() with base 10: '123a'",
          "traceback": [
            "\u001b[0;31m---------------------------------------------------------------------------\u001b[0m",
            "\u001b[0;31mValueError\u001b[0m                                Traceback (most recent call last)",
            "\u001b[0;32m/tmp/ipython-input-3625398899.py\u001b[0m in \u001b[0;36m<cell line: 0>\u001b[0;34m()\u001b[0m\n\u001b[1;32m      1\u001b[0m \u001b[0mnumero_str\u001b[0m \u001b[0;34m=\u001b[0m \u001b[0;34m\"123a\"\u001b[0m\u001b[0;34m\u001b[0m\u001b[0;34m\u001b[0m\u001b[0m\n\u001b[0;32m----> 2\u001b[0;31m \u001b[0mnumero_int\u001b[0m \u001b[0;34m=\u001b[0m \u001b[0mint\u001b[0m\u001b[0;34m(\u001b[0m\u001b[0mnumero_str\u001b[0m\u001b[0;34m)\u001b[0m\u001b[0;34m\u001b[0m\u001b[0;34m\u001b[0m\u001b[0m\n\u001b[0m",
            "\u001b[0;31mValueError\u001b[0m: invalid literal for int() with base 10: '123a'"
          ]
        }
      ]
    },
    {
      "cell_type": "markdown",
      "source": [
        "La función int() espera una cadena de texto que solo contenga números. Como \"123a\" contiene una letra, la conversión falla y se lanza un ValueError.\n",
        "\n",
        "Asegúrate de que los valores que pasas a las funciones sean válidos. Puedes usar un bloque try-except para manejar la posible conversión fallida de forma segura."
      ],
      "metadata": {
        "id": "7u_3qD9HrUG6"
      }
    },
    {
      "cell_type": "code",
      "source": [
        "numero_str = \"123a\"\n",
        "try:\n",
        "    numero_int = int(numero_str)\n",
        "    print(numero_int)\n",
        "except ValueError:\n",
        "    print(\"Error: No se puede convertir la cadena a un número entero.\")"
      ],
      "metadata": {
        "colab": {
          "base_uri": "https://localhost:8080/"
        },
        "id": "1fbNRx9FrXtX",
        "outputId": "03c297eb-f0ff-480a-9b56-93416e7e9037"
      },
      "execution_count": 6,
      "outputs": [
        {
          "output_type": "stream",
          "name": "stdout",
          "text": [
            "Error: No se puede convertir la cadena a un número entero.\n"
          ]
        }
      ]
    },
    {
      "cell_type": "markdown",
      "source": [
        "###9. FileNotFoundError\n",
        "Se produce cuando intentas abrir o acceder a un archivo en una ruta que no existe o está mal escrita. El sistema operativo informa a Python que no pudo encontrar el archivo."
      ],
      "metadata": {
        "id": "e2jjeoI8rRKU"
      }
    },
    {
      "cell_type": "code",
      "source": [
        "with open('mi_archivo.txt', 'r') as archivo:\n",
        "    contenido = archivo.read()"
      ],
      "metadata": {
        "colab": {
          "base_uri": "https://localhost:8080/",
          "height": 159
        },
        "id": "FbB_8Vs8rYFy",
        "outputId": "3705a992-2b50-4b05-9985-cbb63d6c528e"
      },
      "execution_count": 7,
      "outputs": [
        {
          "output_type": "error",
          "ename": "FileNotFoundError",
          "evalue": "[Errno 2] No such file or directory: 'mi_archivo.txt'",
          "traceback": [
            "\u001b[0;31m---------------------------------------------------------------------------\u001b[0m",
            "\u001b[0;31mFileNotFoundError\u001b[0m                         Traceback (most recent call last)",
            "\u001b[0;32m/tmp/ipython-input-2527018878.py\u001b[0m in \u001b[0;36m<cell line: 0>\u001b[0;34m()\u001b[0m\n\u001b[0;32m----> 1\u001b[0;31m \u001b[0;32mwith\u001b[0m \u001b[0mopen\u001b[0m\u001b[0;34m(\u001b[0m\u001b[0;34m'mi_archivo.txt'\u001b[0m\u001b[0;34m,\u001b[0m \u001b[0;34m'r'\u001b[0m\u001b[0;34m)\u001b[0m \u001b[0;32mas\u001b[0m \u001b[0marchivo\u001b[0m\u001b[0;34m:\u001b[0m\u001b[0;34m\u001b[0m\u001b[0;34m\u001b[0m\u001b[0m\n\u001b[0m\u001b[1;32m      2\u001b[0m     \u001b[0mcontenido\u001b[0m \u001b[0;34m=\u001b[0m \u001b[0marchivo\u001b[0m\u001b[0;34m.\u001b[0m\u001b[0mread\u001b[0m\u001b[0;34m(\u001b[0m\u001b[0;34m)\u001b[0m\u001b[0;34m\u001b[0m\u001b[0;34m\u001b[0m\u001b[0m\n",
            "\u001b[0;31mFileNotFoundError\u001b[0m: [Errno 2] No such file or directory: 'mi_archivo.txt'"
          ]
        }
      ]
    },
    {
      "cell_type": "markdown",
      "source": [
        "Si no existe un archivo llamado mi_archivo.txt en el mismo directorio donde se ejecuta el script, Python lanzará este error.\n",
        "\n",
        "Verifica que la ruta y el nombre del archivo sean correctos. También puedes usar una estructura try-except para manejar el caso de que el archivo no se encuentre, mostrando un mensaje de error más amigable en lugar de detener el programa."
      ],
      "metadata": {
        "id": "9efjr_cKrUbW"
      }
    },
    {
      "cell_type": "code",
      "source": [
        "try:\n",
        "    with open('mi_archivo.txt', 'r') as archivo:\n",
        "        contenido = archivo.read()\n",
        "        print(contenido)\n",
        "except FileNotFoundError:\n",
        "    print(\"Error: El archivo no se encontró en la ruta especificada.\")"
      ],
      "metadata": {
        "colab": {
          "base_uri": "https://localhost:8080/"
        },
        "id": "aFCgm_8GrYR8",
        "outputId": "6695d528-d70e-474a-9e3e-85dcfcb7d5d4"
      },
      "execution_count": 8,
      "outputs": [
        {
          "output_type": "stream",
          "name": "stdout",
          "text": [
            "Error: El archivo no se encontró en la ruta especificada.\n"
          ]
        }
      ]
    },
    {
      "cell_type": "markdown",
      "source": [
        "###10. UnboundLocalError\n",
        "Ocurre cuando una variable se usa dentro de una función, pero solo se asigna un valor a ella después de su uso. Python asume que es una variable local porque se le asigna un valor dentro de la función, pero al momento de usarla, todavía no tiene un valor."
      ],
      "metadata": {
        "id": "cTsWiobtrRPM"
      }
    },
    {
      "cell_type": "code",
      "source": [
        "contador = 0\n",
        "def incrementar():\n",
        "    print(contador)\n",
        "    contador = 1\n",
        "incrementar()"
      ],
      "metadata": {
        "colab": {
          "base_uri": "https://localhost:8080/",
          "height": 297
        },
        "id": "HxTcaF_VrYfp",
        "outputId": "3bc31c79-a851-4918-f839-bbb378252070"
      },
      "execution_count": 9,
      "outputs": [
        {
          "output_type": "error",
          "ename": "UnboundLocalError",
          "evalue": "cannot access local variable 'contador' where it is not associated with a value",
          "traceback": [
            "\u001b[0;31m---------------------------------------------------------------------------\u001b[0m",
            "\u001b[0;31mUnboundLocalError\u001b[0m                         Traceback (most recent call last)",
            "\u001b[0;32m/tmp/ipython-input-3301538700.py\u001b[0m in \u001b[0;36m<cell line: 0>\u001b[0;34m()\u001b[0m\n\u001b[1;32m      3\u001b[0m     \u001b[0mprint\u001b[0m\u001b[0;34m(\u001b[0m\u001b[0mcontador\u001b[0m\u001b[0;34m)\u001b[0m\u001b[0;34m\u001b[0m\u001b[0;34m\u001b[0m\u001b[0m\n\u001b[1;32m      4\u001b[0m     \u001b[0mcontador\u001b[0m \u001b[0;34m=\u001b[0m \u001b[0;36m1\u001b[0m\u001b[0;34m\u001b[0m\u001b[0;34m\u001b[0m\u001b[0m\n\u001b[0;32m----> 5\u001b[0;31m \u001b[0mincrementar\u001b[0m\u001b[0;34m(\u001b[0m\u001b[0;34m)\u001b[0m\u001b[0;34m\u001b[0m\u001b[0;34m\u001b[0m\u001b[0m\n\u001b[0m",
            "\u001b[0;32m/tmp/ipython-input-3301538700.py\u001b[0m in \u001b[0;36mincrementar\u001b[0;34m()\u001b[0m\n\u001b[1;32m      1\u001b[0m \u001b[0mcontador\u001b[0m \u001b[0;34m=\u001b[0m \u001b[0;36m0\u001b[0m\u001b[0;34m\u001b[0m\u001b[0;34m\u001b[0m\u001b[0m\n\u001b[1;32m      2\u001b[0m \u001b[0;32mdef\u001b[0m \u001b[0mincrementar\u001b[0m\u001b[0;34m(\u001b[0m\u001b[0;34m)\u001b[0m\u001b[0;34m:\u001b[0m\u001b[0;34m\u001b[0m\u001b[0;34m\u001b[0m\u001b[0m\n\u001b[0;32m----> 3\u001b[0;31m     \u001b[0mprint\u001b[0m\u001b[0;34m(\u001b[0m\u001b[0mcontador\u001b[0m\u001b[0;34m)\u001b[0m\u001b[0;34m\u001b[0m\u001b[0;34m\u001b[0m\u001b[0m\n\u001b[0m\u001b[1;32m      4\u001b[0m     \u001b[0mcontador\u001b[0m \u001b[0;34m=\u001b[0m \u001b[0;36m1\u001b[0m\u001b[0;34m\u001b[0m\u001b[0;34m\u001b[0m\u001b[0m\n\u001b[1;32m      5\u001b[0m \u001b[0mincrementar\u001b[0m\u001b[0;34m(\u001b[0m\u001b[0;34m)\u001b[0m\u001b[0;34m\u001b[0m\u001b[0;34m\u001b[0m\u001b[0m\n",
            "\u001b[0;31mUnboundLocalError\u001b[0m: cannot access local variable 'contador' where it is not associated with a value"
          ]
        }
      ]
    },
    {
      "cell_type": "markdown",
      "source": [
        "La función incrementar() intenta imprimir la variable contador (línea 3), pero luego le asigna un nuevo valor (línea 4). Como hay una asignación dentro de la función, Python la trata como una variable local y se queja porque la estás usando antes de asignarle un valor.\n",
        "\n",
        "Si quieres modificar una variable global dentro de una función, debes declararla explícitamente como global en el cuerpo de la función."
      ],
      "metadata": {
        "id": "AHwdXEI7rUks"
      }
    },
    {
      "cell_type": "code",
      "source": [
        "contador = 0\n",
        "def incrementar():\n",
        "    global contador\n",
        "    print(contador)\n",
        "    contador = 1\n",
        "incrementar()"
      ],
      "metadata": {
        "colab": {
          "base_uri": "https://localhost:8080/"
        },
        "id": "DLELTw2ArYzI",
        "outputId": "4962ef2b-bd7b-4af9-a3d2-6c76f78a30e2"
      },
      "execution_count": 10,
      "outputs": [
        {
          "output_type": "stream",
          "name": "stdout",
          "text": [
            "0\n"
          ]
        }
      ]
    }
  ]
}