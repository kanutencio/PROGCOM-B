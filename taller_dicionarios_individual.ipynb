{
  "nbformat": 4,
  "nbformat_minor": 0,
  "metadata": {
    "colab": {
      "provenance": [],
      "authorship_tag": "ABX9TyPdDlxB/t2HiHCOMcBnEUQS",
      "include_colab_link": true
    },
    "kernelspec": {
      "name": "python3",
      "display_name": "Python 3"
    },
    "language_info": {
      "name": "python"
    }
  },
  "cells": [
    {
      "cell_type": "markdown",
      "metadata": {
        "id": "view-in-github",
        "colab_type": "text"
      },
      "source": [
        "<a href=\"https://colab.research.google.com/github/kanutencio/PROGCOM-B/blob/main/taller_dicionarios_individual.ipynb\" target=\"_parent\"><img src=\"https://colab.research.google.com/assets/colab-badge.svg\" alt=\"Open In Colab\"/></a>"
      ]
    },
    {
      "cell_type": "code",
      "source": [
        "#13D Crea una función que reciba un diccionario con claves 'nombre' y 'edad', y retorne un mensaje con esos datos.\n",
        "print(\"digite la id del usuario: \")\n",
        "print(\"1. juan\")\n",
        "print(\"2. pedro\")\n",
        "print(\"3. jose\")\n",
        "usuario = int(input())\n",
        "\n",
        "DicNombre1 = {\"Nombre\" : \"juan\" , \"edad\" : 20}\n",
        "DicNombre2 = {\"Nombre\" : \"pedro\" , \"edad\" : 15}\n",
        "DicNombre3 = {\"Nombre\" : \"jose\" , \"edad\" : 80}\n",
        "\n",
        "def mostrar_datos(diccionario):\n",
        "  nombre = diccionario.get('Nombre')\n",
        "  edad = diccionario.get('edad')\n",
        "  print(f\"el nombre es {nombre} y su edad es {edad}\")\n",
        "\n",
        "if (usuario == 1):\n",
        "  mostrar_datos(DicNombre1)\n",
        "elif (usuario == 2):\n",
        "  mostrar_datos(DicNombre2)\n",
        "elif (usuario == 3):\n",
        "  mostrar_datos(DicNombre3)\n",
        "else:\n",
        "  print(\"usuario invalido\")"
      ],
      "metadata": {
        "colab": {
          "base_uri": "https://localhost:8080/"
        },
        "id": "IJqzsbjQ86r1",
        "outputId": "18073db4-63cc-4f19-f74c-5384ceaa8995"
      },
      "execution_count": 7,
      "outputs": [
        {
          "output_type": "stream",
          "name": "stdout",
          "text": [
            "digite la id del usuario: \n",
            "1. juan\n",
            "2. pedro\n",
            "3. jose\n",
            "2\n",
            "el nombre es pedro y su edad es 15\n"
          ]
        }
      ]
    }
  ]
}