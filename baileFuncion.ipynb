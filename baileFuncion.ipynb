{
  "nbformat": 4,
  "nbformat_minor": 0,
  "metadata": {
    "colab": {
      "provenance": [],
      "authorship_tag": "ABX9TyOV8RCMHhrooqU748/uqJ//",
      "include_colab_link": true
    },
    "kernelspec": {
      "name": "python3",
      "display_name": "Python 3"
    },
    "language_info": {
      "name": "python"
    }
  },
  "cells": [
    {
      "cell_type": "markdown",
      "metadata": {
        "id": "view-in-github",
        "colab_type": "text"
      },
      "source": [
        "<a href=\"https://colab.research.google.com/github/kanutencio/PROGCOM-B/blob/main/baileFuncion.ipynb\" target=\"_parent\"><img src=\"https://colab.research.google.com/assets/colab-badge.svg\" alt=\"Open In Colab\"/></a>"
      ]
    },
    {
      "cell_type": "markdown",
      "source": [
        "## Integrantes:\n",
        "\n",
        "Alejandro Pradilla\n",
        "Andres Jaime\n",
        "Angel Arias\n",
        "\n",
        "https://youtu.be/HrQplvU5bwM?si=xja3-BbsSni9YVzo"
      ],
      "metadata": {
        "id": "JcNN6NwcowSU"
      }
    },
    {
      "cell_type": "code",
      "execution_count": 25,
      "metadata": {
        "colab": {
          "base_uri": "https://localhost:8080/"
        },
        "id": "W4BjOqDchMmz",
        "outputId": "d1df960b-d1a9-4f6e-990e-8b6599bb00dc"
      },
      "outputs": [
        {
          "output_type": "stream",
          "name": "stdout",
          "text": [
            "\n",
            "--- ¡Inicia la coreografía Nippon Egao Hyakkei! ---\n",
            "\n",
            "🔄 Salta y Gira sobre ti mismo\n",
            "👉 Mueve la cadera a la derecha\n",
            "👉 Mueve la cadera a la derecha\n",
            "👈 Mueve la cadera a la izquierda\n",
            "👈 Mueve la cadera a la izquierda\n",
            "👉 Mueve la cadera a la derecha\n",
            "👉 Mueve la cadera a la derecha\n",
            "👈 Mueve la cadera a la izquierda\n",
            "👈 Mueve la cadera a la izquierda\n",
            "👉 Mueve la cadera a la derecha\n",
            "👉 Mueve la cadera a la derecha\n",
            "👈 Mueve la cadera a la izquierda\n",
            "👈 Mueve la cadera a la izquierda\n",
            "👉 Mueve la cadera a la derecha\n",
            "👈 Mueve la cadera a la izquierda\n",
            "👉 Mueve la cadera a la derecha\n",
            "👈 Mueve la cadera a la izquierda\n",
            "👉 Mueve la cadera a la derecha\n",
            "👈 Mueve la cadera a la izquierda\n",
            "👉 Mueve la cadera a la derecha\n",
            "👉 Mueve la cadera a la derecha\n",
            "👈 Mueve la cadera a la izquierda\n",
            "👈 Mueve la cadera a la izquierda\n",
            "👉 Mueve la cadera a la derecha\n",
            "👉 Mueve la cadera a la derecha\n",
            "👈 Mueve la cadera a la izquierda\n",
            "👈 Mueve la cadera a la izquierda\n",
            "👉 Mueve la cadera a la derecha\n",
            "👉 Mueve la cadera a la derecha\n",
            "👈 Mueve la cadera a la izquierda\n",
            "👈 Mueve la cadera a la izquierda\n",
            "👉 Mueve la cadera a la derecha\n",
            "👈 Mueve la cadera a la izquierda\n",
            "👉 Mueve la cadera a la derecha\n",
            "👈 Mueve la cadera a la izquierda\n",
            "🩵 se cae azul\n",
            "👉 Mueve la cadera a la derecha\n",
            "👉 Mueve la cadera a la derecha\n",
            "👉 Mueve la cadera a la derecha\n",
            "👉 Mueve la cadera a la derecha\n",
            "👉 Mueve la cadera a la derecha\n",
            "👉 Mueve la cadera a la derecha\n",
            "👈 Mueve la cadera a la izquierda\n",
            "👈 Mueve la cadera a la izquierda\n",
            "👉 Mueve la cadera a la derecha\n",
            "👉 Mueve la cadera a la derecha\n",
            "👈 Mueve la cadera a la izquierda\n",
            "👈 Mueve la cadera a la izquierda\n",
            "👉 Mueve la cadera a la derecha\n",
            "👉 Mueve la cadera a la derecha\n",
            "👈 Mueve la cadera a la izquierda\n",
            "👈 Mueve la cadera a la izquierda\n",
            "\n",
            "--- ¡Fin de la coreografía! ---\n"
          ]
        }
      ],
      "source": [
        "def mover_cadera(a,b):\n",
        "  for j in range(b):\n",
        "    for i in range(a):\n",
        "        print(\"👉 Mueve la cadera a la derecha\")\n",
        "    for i in range(a):\n",
        "        print(\"👈 Mueve la cadera a la izquierda\")\n",
        "\n",
        "def derechaFull(a):\n",
        "    for i in range(a):\n",
        "        print(\"👉 Mueve la cadera a la derecha\")\n",
        "\n",
        "def girar():\n",
        "    print(\"🙌 Mano izquierda se junta con mano derecha\")\n",
        "    print(\"🙌 Poscicion de D.va\")\n",
        "\n",
        "def coreografia():\n",
        "    print(\"\\n--- ¡Inicia la coreografía Nippon Egao Hyakkei! ---\\n\")\n",
        "    print(\"🔄 Salta y Gira sobre ti mismo\")\n",
        "    mover_cadera(2,3)\n",
        "    mover_cadera(1,3)\n",
        "    mover_cadera(2,3)\n",
        "    mover_cadera(1,2)\n",
        "    print(\"🩵 se cae azul\")\n",
        "    derechaFull(4)\n",
        "    mover_cadera(2,3)\n",
        "\n",
        "    print(\"\\n--- ¡Fin de la coreografía! ---\")\n",
        "\n",
        "\n",
        "coreografia()"
      ]
    }
  ]
}