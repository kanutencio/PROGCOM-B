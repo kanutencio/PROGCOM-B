{
  "nbformat": 4,
  "nbformat_minor": 0,
  "metadata": {
    "colab": {
      "provenance": [],
      "authorship_tag": "ABX9TyOphn4PWQ+ThiqS4kCUYQI+",
      "include_colab_link": true
    },
    "kernelspec": {
      "name": "python3",
      "display_name": "Python 3"
    },
    "language_info": {
      "name": "python"
    }
  },
  "cells": [
    {
      "cell_type": "markdown",
      "metadata": {
        "id": "view-in-github",
        "colab_type": "text"
      },
      "source": [
        "<a href=\"https://colab.research.google.com/github/kanutencio/PROGCOM-B/blob/main/taller_dicionarios.ipynb\" target=\"_parent\"><img src=\"https://colab.research.google.com/assets/colab-badge.svg\" alt=\"Open In Colab\"/></a>"
      ]
    },
    {
      "cell_type": "code",
      "source": [
        "#13D Crea una función que reciba un diccionario con claves 'nombre' y 'edad', y retorne un mensaje con esos datos.\n",
        "print(\"digite la id del usuario: \")\n",
        "print(\"1. juan\")\n",
        "print(\"2. pedro\")\n",
        "print(\"3. jose\")\n",
        "usuario = int(input())\n",
        "\n",
        "DicNombre1 = {\"Nombre\" : \"juan\" , \"edad\" : 20}\n",
        "DicNombre2 = {\"Nombre\" : \"pedro\" , \"edad\" : 15}\n",
        "DicNombre3 = {\"Nombre\" : \"jose\" , \"edad\" : 80}\n",
        "\n",
        "def mostrar_datos(diccionario):\n",
        "  nombre = diccionario.get('Nombre')\n",
        "  edad = diccionario.get('edad')\n",
        "  print(f\"el nombre es {nombre} y su edad es {edad}\")\n",
        "\n",
        "if (usuario == 1):\n",
        "  mostrar_datos(DicNombre1)\n",
        "elif (usuario == 2):\n",
        "  mostrar_datos(DicNombre2)\n",
        "elif (usuario == 3):\n",
        "  mostrar_datos(DicNombre3)\n",
        "else:\n",
        "  print(\"usuario invalido\")"
      ],
      "metadata": {
        "colab": {
          "base_uri": "https://localhost:8080/"
        },
        "id": "IJqzsbjQ86r1",
        "outputId": "18073db4-63cc-4f19-f74c-5384ceaa8995"
      },
      "execution_count": 7,
      "outputs": [
        {
          "output_type": "stream",
          "name": "stdout",
          "text": [
            "digite la id del usuario: \n",
            "1. juan\n",
            "2. pedro\n",
            "3. jose\n",
            "2\n",
            "el nombre es pedro y su edad es 15\n"
          ]
        }
      ]
    },
    {
      "cell_type": "code",
      "source": [
        "## Punto 17\n",
        "\n",
        "Estudiantes = {\"Estudiantes\": [\"Ana\", \"Luis\", \"Carlos\"],\n",
        "                   \"Notas\": [23, 45, 53]}\n",
        "\n",
        "def estudiante_con_mayor_nota(notas):\n",
        "  estudiante_mayor_nota = \"\"\n",
        "  mayor_nota = -1\n",
        "\n",
        "  for estudiante, nota in notas.items():\n",
        "    if nota > mayor_nota:\n",
        "      mayor_nota = nota\n",
        "      estudiante_mayor_nota = estudiante\n",
        "\n",
        "  return estudiante_mayor_nota\n",
        "\n",
        "notas_estudiantes = dict(zip(Estudiantes[\"Estudiantes\"], Estudiantes[\"Notas\"]))\n",
        "\n",
        "Mas_inteligente = estudiante_con_mayor_nota(notas_estudiantes)\n",
        "print(f\"El estudiante con la mayor nota es: {Mas_inteligente}\")"
      ],
      "metadata": {
        "id": "P3yMJyi6HxV4",
        "outputId": "a4af2f8e-40de-4b2b-c7a6-19a2f3bced30",
        "colab": {
          "base_uri": "https://localhost:8080/"
        }
      },
      "execution_count": 28,
      "outputs": [
        {
          "output_type": "stream",
          "name": "stdout",
          "text": [
            "El estudiante con la mayor nota es: Carlos\n"
          ]
        }
      ]
    },
    {
      "cell_type": "code",
      "source": [
        "## punto 19\n",
        "datos_empleados = {\"Empleados\": [\"Ana\", \"Luis\", \"Carlos\"],\n",
        "                   \"Horas trabajadas\": [23, 45, 53]}\n",
        "\n",
        "def calcular_total_horas(empleados):\n",
        "  total_horas = {}\n",
        "  nombres = empleados[\"Empleados\"]\n",
        "  horas = empleados[\"Horas trabajadas\"]\n",
        "  for i in range(len(nombres)):\n",
        "    total_horas[nombres[i]] = horas[i]\n",
        "  return total_horas\n",
        "\n",
        "\n",
        "horas_totales_por_empleado = calcular_total_horas(datos_empleados)\n",
        "\n",
        "usuario = input(\"Ingrese el nombre del empleado: \")\n",
        "if usuario in horas_totales_por_empleado:\n",
        "    print(f\"{usuario} ha trabajado un total de {horas_totales_por_empleado[usuario]} horas.\")\n",
        "else:\n",
        "    print(\"Empleado no encontrado.\")"
      ],
      "metadata": {
        "id": "nMHenQ3lHzuj",
        "outputId": "1f52fcbe-013b-4b18-a985-0ebbdfe451a0",
        "colab": {
          "base_uri": "https://localhost:8080/"
        }
      },
      "execution_count": 31,
      "outputs": [
        {
          "output_type": "stream",
          "name": "stdout",
          "text": [
            "Ingrese el nombre del empleado: Ana\n",
            "Ana ha trabajado un total de 23 horas.\n"
          ]
        }
      ]
    },
    {
      "cell_type": "code",
      "source": [
        "nom={}\n",
        "nu = 1\n",
        "nl=[]\n",
        "nv=[]\n",
        "\n",
        "while nu <= 5:\n",
        "  c=input(\"Ingrese un nombre: \")\n",
        "  nl.append(c)\n",
        "  l = 0\n",
        "  for ch in c:\n",
        "    while l < 1:\n",
        "      if (str(ch) == \"a\" or str(ch) == \"e\" or str(ch) == \"i\" or str(ch) == \"o\" or str(ch) == \"u\") or (str(ch) == \"A\" or str(ch) == \"E\" or str(ch) == \"I\" or str(ch) == \"O\" or str(ch) == \"U\"):\n",
        "        nv.append(c)\n",
        "        l = l + 1\n",
        "      else:\n",
        "        l = l + 1\n",
        "  nu = nu + 1\n",
        "\n",
        "nom.update({\"Nombres\": nv})\n",
        "nom.update({\"Nombres (No vocal)\": nl})\n",
        "print(f\"La cantidad de nombres que comienzan con una vocal son {len(nv)}\")\n",
        "nom.get(\"Nombres\")"
      ],
      "metadata": {
        "id": "y4bAow7OH0bp",
        "outputId": "c065a1c6-15b6-4652-fa96-f4850fef36cc",
        "colab": {
          "base_uri": "https://localhost:8080/"
        }
      },
      "execution_count": 32,
      "outputs": [
        {
          "output_type": "stream",
          "name": "stdout",
          "text": [
            "Ingrese un nombre: juan alfonzo bill cypher\n",
            "Ingrese un nombre: dipper\n",
            "Ingrese un nombre: mabel\n",
            "Ingrese un nombre: stand\n",
            "Ingrese un nombre: wendy\n",
            "La cantidad de nombres que comienzan con una vocal son 0\n"
          ]
        },
        {
          "output_type": "execute_result",
          "data": {
            "text/plain": [
              "[]"
            ]
          },
          "metadata": {},
          "execution_count": 32
        }
      ]
    }
  ]
}