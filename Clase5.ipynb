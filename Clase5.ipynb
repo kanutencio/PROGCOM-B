{
  "nbformat": 4,
  "nbformat_minor": 0,
  "metadata": {
    "colab": {
      "provenance": [],
      "authorship_tag": "ABX9TyPUMRWIfcB+yq8p131MNq+1",
      "include_colab_link": true
    },
    "kernelspec": {
      "name": "python3",
      "display_name": "Python 3"
    },
    "language_info": {
      "name": "python"
    }
  },
  "cells": [
    {
      "cell_type": "markdown",
      "metadata": {
        "id": "view-in-github",
        "colab_type": "text"
      },
      "source": [
        "<a href=\"https://colab.research.google.com/github/kanutencio/PROGCOM-B/blob/main/Clase5.ipynb\" target=\"_parent\"><img src=\"https://colab.research.google.com/assets/colab-badge.svg\" alt=\"Open In Colab\"/></a>"
      ]
    },
    {
      "cell_type": "markdown",
      "source": [
        "#listas\n",
        "1. Un nuevo tipo de Dato\n",
        "2. Mutable\n",
        "3. Indexacion: hay un orden\n",
        "4. Hay un numero finito de posiciones\n",
        "5. todas las listas se abren y cierran con [] y se separan internamente con ,\n",
        "\n",
        "sintaxis\n",
        "\n",
        "\n",
        "```\n",
        "NobreLista = [] #crear lista vacia\n",
        "flores = [\"margarita\",\"rosa\",\"tulipan\"] # listas por extencion\n",
        "```\n",
        "\n",
        "\n",
        "\n"
      ],
      "metadata": {
        "id": "HV9ybm_w8Usc"
      }
    },
    {
      "cell_type": "code",
      "execution_count": 3,
      "metadata": {
        "colab": {
          "base_uri": "https://localhost:8080/"
        },
        "id": "Fy0zvi4N8Ddj",
        "outputId": "c0b89b24-2177-46ea-d22c-b7b462c0054a"
      },
      "outputs": [
        {
          "output_type": "stream",
          "name": "stdout",
          "text": [
            "[1, 2, 3, 4, 5, 6, 7, 8, 9, 10]\n"
          ]
        }
      ],
      "source": [
        "nu = []\n",
        "for i in range(1,11):\n",
        "  nu.append(i)\n",
        "print(nu)\n"
      ]
    },
    {
      "cell_type": "markdown",
      "source": [
        "#listas por comprension\n",
        "son expreciones que generan la lista\n",
        "sintaxis\n",
        "```\n",
        "Nombrelista = [exprecion for variable in iteracion if condicion]\n",
        "```\n",
        "\n"
      ],
      "metadata": {
        "id": "c7bMgmad_Dj4"
      }
    },
    {
      "cell_type": "markdown",
      "source": [
        "###Ejemplo\n",
        "\n"
      ],
      "metadata": {
        "id": "PimbgQs4_wrj"
      }
    },
    {
      "cell_type": "code",
      "source": [
        "#1. convertir una lista de oraciones en una lista de palabras\n",
        "oracion = [\"oracion 1\",\"oracion 2\",\"aqui va la tercera oracion\"]\n",
        "palabras = [i.split() for i in oracion]\n",
        "len(palabras[2])"
      ],
      "metadata": {
        "colab": {
          "base_uri": "https://localhost:8080/"
        },
        "id": "Djyy-UGM_BxD",
        "outputId": "aee7dadd-4070-48f5-aa73-ef3a6df67173"
      },
      "execution_count": 10,
      "outputs": [
        {
          "output_type": "execute_result",
          "data": {
            "text/plain": [
              "5"
            ]
          },
          "metadata": {},
          "execution_count": 10
        }
      ]
    },
    {
      "cell_type": "markdown",
      "source": [
        "##Indexacion en listas\n",
        "*Recordad que python cuenta desde **0***\n",
        "\n",
        "\n",
        "```\n",
        "lista = [Elemento1.Elemento2,elemento3]\n",
        "lista[0] = Elemento1\n",
        "lista[3] = error fuera de rango\n",
        "```\n",
        "\n"
      ],
      "metadata": {
        "id": "KSWbMeayDUu_"
      }
    },
    {
      "cell_type": "code",
      "source": [
        "#Indexacion negativa\n",
        "ListaNumers = [1,2,3,4,5,6,7,8,9,10]\n",
        "ListaNumers[-10]\n",
        "print(ListaNumers[len(ListaNumers)-1])\n",
        "print(ListaNumers[:6])"
      ],
      "metadata": {
        "colab": {
          "base_uri": "https://localhost:8080/"
        },
        "id": "urz_ycr7-fyr",
        "outputId": "d545b477-b6c3-4fdc-f233-c88645bafe93"
      },
      "execution_count": 20,
      "outputs": [
        {
          "output_type": "stream",
          "name": "stdout",
          "text": [
            "10\n",
            "[1, 2, 3, 4, 5, 6]\n"
          ]
        }
      ]
    },
    {
      "cell_type": "code",
      "source": [
        "#obtener los pares de la lista\n",
        "ListaNumers = [1,2,3,4,5,6,7,8,9,10]\n",
        "pares = [x for x in ListaNumers if x%2 == 0]\n",
        "pares"
      ],
      "metadata": {
        "colab": {
          "base_uri": "https://localhost:8080/"
        },
        "id": "M3Asjw0-F1X6",
        "outputId": "ceedd15b-2217-4870-c01d-979368fd0a3c"
      },
      "execution_count": 22,
      "outputs": [
        {
          "output_type": "execute_result",
          "data": {
            "text/plain": [
              "[1, 3, 5, 7, 9]"
            ]
          },
          "metadata": {},
          "execution_count": 22
        }
      ]
    },
    {
      "cell_type": "markdown",
      "source": [
        "##duplas"
      ],
      "metadata": {
        "id": "6ZD3nTmTGt1k"
      }
    },
    {
      "cell_type": "code",
      "source": [
        "#3. clasificar numeros en negativo y positivos\n",
        "ListaNumers = [1,-2,3,-4,5,-6,7,-8,9,-10]\n",
        "clasificacion = [(\"positivo\",x) if x>0 else (\"negativo\",x) for x in ListaNumers]\n",
        "clasificacion"
      ],
      "metadata": {
        "colab": {
          "base_uri": "https://localhost:8080/"
        },
        "id": "-eMvMQ4UGvHe",
        "outputId": "24d358bf-5470-4220-93ff-8587cc986cc9"
      },
      "execution_count": 23,
      "outputs": [
        {
          "output_type": "execute_result",
          "data": {
            "text/plain": [
              "[('positivo', 1),\n",
              " ('negativo', -2),\n",
              " ('positivo', 3),\n",
              " ('negativo', -4),\n",
              " ('positivo', 5),\n",
              " ('negativo', -6),\n",
              " ('positivo', 7),\n",
              " ('negativo', -8),\n",
              " ('positivo', 9),\n",
              " ('negativo', -10)]"
            ]
          },
          "metadata": {},
          "execution_count": 23
        }
      ]
    }
  ]
}