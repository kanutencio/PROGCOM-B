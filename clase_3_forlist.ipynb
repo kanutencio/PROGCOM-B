{
  "nbformat": 4,
  "nbformat_minor": 0,
  "metadata": {
    "colab": {
      "provenance": [],
      "authorship_tag": "ABX9TyPvWb8QYlQHtQwO7jswxgdF",
      "include_colab_link": true
    },
    "kernelspec": {
      "name": "python3",
      "display_name": "Python 3"
    },
    "language_info": {
      "name": "python"
    }
  },
  "cells": [
    {
      "cell_type": "markdown",
      "metadata": {
        "id": "view-in-github",
        "colab_type": "text"
      },
      "source": [
        "<a href=\"https://colab.research.google.com/github/kanutencio/PROGCOM-B/blob/main/clase_3_forlist.ipynb\" target=\"_parent\"><img src=\"https://colab.research.google.com/assets/colab-badge.svg\" alt=\"Open In Colab\"/></a>"
      ]
    },
    {
      "cell_type": "markdown",
      "source": [
        "ejercicios de clase 19/08"
      ],
      "metadata": {
        "id": "TWulWYIhT6Fj"
      }
    },
    {
      "cell_type": "markdown",
      "source": [
        "##ejerccicio 1\n"
      ],
      "metadata": {
        "id": "qTUTR9dpVNd8"
      }
    },
    {
      "cell_type": "code",
      "execution_count": 2,
      "metadata": {
        "colab": {
          "base_uri": "https://localhost:8080/"
        },
        "id": "k61LbMIaT5OS",
        "outputId": "f3aebe6a-2124-430e-d35a-3ad0456509c3"
      },
      "outputs": [
        {
          "output_type": "stream",
          "name": "stdout",
          "text": [
            "1\n",
            "2\n",
            "3\n",
            "4\n",
            "5\n",
            "6\n",
            "7\n",
            "8\n",
            "9\n",
            "10\n"
          ]
        }
      ],
      "source": [
        "#1.1\n",
        "for i in range(10):\n",
        "  print(i+1)"
      ]
    },
    {
      "cell_type": "code",
      "source": [
        "#1.2\n",
        "LNumeros = []\n",
        "for i in range(10):\n",
        "  LNumeros.append(i+1)\n",
        "  print(LNumeros)"
      ],
      "metadata": {
        "colab": {
          "base_uri": "https://localhost:8080/"
        },
        "id": "Q77ct8a5UoLv",
        "outputId": "7cc29798-1999-4a9d-b026-9b171b9be850"
      },
      "execution_count": 5,
      "outputs": [
        {
          "output_type": "stream",
          "name": "stdout",
          "text": [
            "[1]\n",
            "[1, 2]\n",
            "[1, 2, 3]\n",
            "[1, 2, 3, 4]\n",
            "[1, 2, 3, 4, 5]\n",
            "[1, 2, 3, 4, 5, 6]\n",
            "[1, 2, 3, 4, 5, 6, 7]\n",
            "[1, 2, 3, 4, 5, 6, 7, 8]\n",
            "[1, 2, 3, 4, 5, 6, 7, 8, 9]\n",
            "[1, 2, 3, 4, 5, 6, 7, 8, 9, 10]\n"
          ]
        }
      ]
    },
    {
      "cell_type": "markdown",
      "source": [
        "##ejercicio 2\n"
      ],
      "metadata": {
        "id": "o9F3D6rlVKll"
      }
    },
    {
      "cell_type": "code",
      "source": [
        "#2.1\n",
        "NumerosSumar = 1;\n",
        "for i in range(101):\n",
        "  NumerosSumar = NumerosSumar + i\n",
        "  print(NumerosSumar)"
      ],
      "metadata": {
        "colab": {
          "base_uri": "https://localhost:8080/"
        },
        "collapsed": true,
        "id": "uuh8IzddVPn8",
        "outputId": "b4f3ff0d-2e68-4129-e3a9-a072ecfccf1d"
      },
      "execution_count": 14,
      "outputs": [
        {
          "output_type": "stream",
          "name": "stdout",
          "text": [
            "1\n",
            "2\n",
            "4\n",
            "7\n",
            "11\n",
            "16\n",
            "22\n",
            "29\n",
            "37\n",
            "46\n",
            "56\n",
            "67\n",
            "79\n",
            "92\n",
            "106\n",
            "121\n",
            "137\n",
            "154\n",
            "172\n",
            "191\n",
            "211\n",
            "232\n",
            "254\n",
            "277\n",
            "301\n",
            "326\n",
            "352\n",
            "379\n",
            "407\n",
            "436\n",
            "466\n",
            "497\n",
            "529\n",
            "562\n",
            "596\n",
            "631\n",
            "667\n",
            "704\n",
            "742\n",
            "781\n",
            "821\n",
            "862\n",
            "904\n",
            "947\n",
            "991\n",
            "1036\n",
            "1082\n",
            "1129\n",
            "1177\n",
            "1226\n",
            "1276\n",
            "1327\n",
            "1379\n",
            "1432\n",
            "1486\n",
            "1541\n",
            "1597\n",
            "1654\n",
            "1712\n",
            "1771\n",
            "1831\n",
            "1892\n",
            "1954\n",
            "2017\n",
            "2081\n",
            "2146\n",
            "2212\n",
            "2279\n",
            "2347\n",
            "2416\n",
            "2486\n",
            "2557\n",
            "2629\n",
            "2702\n",
            "2776\n",
            "2851\n",
            "2927\n",
            "3004\n",
            "3082\n",
            "3161\n",
            "3241\n",
            "3322\n",
            "3404\n",
            "3487\n",
            "3571\n",
            "3656\n",
            "3742\n",
            "3829\n",
            "3917\n",
            "4006\n",
            "4096\n",
            "4187\n",
            "4279\n",
            "4372\n",
            "4466\n",
            "4561\n",
            "4657\n",
            "4754\n",
            "4852\n",
            "4951\n",
            "5051\n"
          ]
        }
      ]
    },
    {
      "cell_type": "code",
      "source": [
        "#2.2\n",
        "NumerosSumar = 1;\n",
        "ListaNumeros =[]\n",
        "for i in range(101):\n",
        "  NumerosSumar = NumerosSumar + i\n",
        "  ListaNumeros.append(NumerosSumar)\n",
        "print(ListaNumeros)"
      ],
      "metadata": {
        "colab": {
          "base_uri": "https://localhost:8080/"
        },
        "id": "RUt14dhgWwPv",
        "outputId": "f9ac1659-9edf-49d5-da56-61644e2126c3"
      },
      "execution_count": 16,
      "outputs": [
        {
          "output_type": "stream",
          "name": "stdout",
          "text": [
            "[1, 2, 4, 7, 11, 16, 22, 29, 37, 46, 56, 67, 79, 92, 106, 121, 137, 154, 172, 191, 211, 232, 254, 277, 301, 326, 352, 379, 407, 436, 466, 497, 529, 562, 596, 631, 667, 704, 742, 781, 821, 862, 904, 947, 991, 1036, 1082, 1129, 1177, 1226, 1276, 1327, 1379, 1432, 1486, 1541, 1597, 1654, 1712, 1771, 1831, 1892, 1954, 2017, 2081, 2146, 2212, 2279, 2347, 2416, 2486, 2557, 2629, 2702, 2776, 2851, 2927, 3004, 3082, 3161, 3241, 3322, 3404, 3487, 3571, 3656, 3742, 3829, 3917, 4006, 4096, 4187, 4279, 4372, 4466, 4561, 4657, 4754, 4852, 4951, 5051]\n"
          ]
        }
      ]
    },
    {
      "cell_type": "markdown",
      "source": [
        "## ejercicio 3"
      ],
      "metadata": {
        "id": "EekXKgq3XXce"
      }
    },
    {
      "cell_type": "code",
      "source": [
        "##3.1\n",
        "for i in range(11):\n",
        "  i = i * 3\n",
        "  print(i)"
      ],
      "metadata": {
        "colab": {
          "base_uri": "https://localhost:8080/"
        },
        "id": "t7Sv5D2sXG7L",
        "outputId": "6883dda6-4c10-471b-dcc5-59c8fbf882ab"
      },
      "execution_count": 22,
      "outputs": [
        {
          "output_type": "stream",
          "name": "stdout",
          "text": [
            "0\n",
            "3\n",
            "6\n",
            "9\n",
            "12\n",
            "15\n",
            "18\n",
            "21\n",
            "24\n",
            "27\n",
            "30\n"
          ]
        }
      ]
    },
    {
      "cell_type": "code",
      "source": [
        "#3.2\n",
        "ListaMultiplos = [];\n",
        "for i in range(11):\n",
        "  i = i * 3\n",
        "  ListaMultiplos.append(i)\n",
        "\n",
        "print(ListaMultiplos)"
      ],
      "metadata": {
        "colab": {
          "base_uri": "https://localhost:8080/"
        },
        "collapsed": true,
        "id": "yrZEDWUCXKZf",
        "outputId": "ab13c4f0-0a13-426e-dbab-7756fd93759a"
      },
      "execution_count": 23,
      "outputs": [
        {
          "output_type": "stream",
          "name": "stdout",
          "text": [
            "[0, 3, 6, 9, 12, 15, 18, 21, 24, 27, 30]\n"
          ]
        }
      ]
    },
    {
      "cell_type": "markdown",
      "source": [
        "##ejercicio 4"
      ],
      "metadata": {
        "id": "azGKoQTtYvXu"
      }
    },
    {
      "cell_type": "code",
      "source": [
        "#4.1\n",
        "Numero = int(input(\"Digite su numero: \"))\n",
        "for i in range(11):\n",
        "  NumerosMultiplicados = i * Numero\n",
        "  print(f\"{i} por {Numero} = {NumerosMultiplicados}\")"
      ],
      "metadata": {
        "colab": {
          "base_uri": "https://localhost:8080/"
        },
        "id": "X980J4IJYuuf",
        "outputId": "0cba676f-6d57-4353-b9ec-9ea926820800"
      },
      "execution_count": 46,
      "outputs": [
        {
          "output_type": "stream",
          "name": "stdout",
          "text": [
            "Digite su numero: 3\n",
            "0 por 3 = 0\n",
            "1 por 3 = 3\n",
            "2 por 3 = 6\n",
            "3 por 3 = 9\n",
            "4 por 3 = 12\n",
            "5 por 3 = 15\n",
            "6 por 3 = 18\n",
            "7 por 3 = 21\n",
            "8 por 3 = 24\n",
            "9 por 3 = 27\n",
            "10 por 3 = 30\n"
          ]
        }
      ]
    },
    {
      "cell_type": "code",
      "source": [
        "#4.2\n",
        "Numero = int(input(\"Digite su numero: \"))\n",
        "ListaNumeros = [];\n",
        "for i in range(11):\n",
        "  NumerosMultiplicados = i * Numero\n",
        "  ListaNumeros.append(NumerosMultiplicados)\n",
        "  print(f\"{i} por {Numero} = {NumerosMultiplicados}\")\n",
        "print(f\"La lista es :{ListaNumeros}\")"
      ],
      "metadata": {
        "colab": {
          "base_uri": "https://localhost:8080/"
        },
        "id": "N2eo-2Y5XT7J",
        "outputId": "0649e304-37b5-4026-f784-aa8589b78157"
      },
      "execution_count": 49,
      "outputs": [
        {
          "output_type": "stream",
          "name": "stdout",
          "text": [
            "Digite su numero: 3\n",
            "0 por 3 = 0\n",
            "1 por 3 = 3\n",
            "2 por 3 = 6\n",
            "3 por 3 = 9\n",
            "4 por 3 = 12\n",
            "5 por 3 = 15\n",
            "6 por 3 = 18\n",
            "7 por 3 = 21\n",
            "8 por 3 = 24\n",
            "9 por 3 = 27\n",
            "10 por 3 = 30\n",
            "La lista es :[0, 3, 6, 9, 12, 15, 18, 21, 24, 27, 30]\n"
          ]
        }
      ]
    },
    {
      "cell_type": "markdown",
      "source": [
        "##ejercicio 5"
      ],
      "metadata": {
        "id": "_Z-97Jb8ZkzS"
      }
    },
    {
      "cell_type": "code",
      "source": [
        "#5.1\n",
        "NumeroDigito = 0\n",
        "for i in range(5):\n",
        "  Digito = int(input(f\"Digite numero {i+1}: \"))\n",
        "  NumeroDigito += + Digito\n",
        "promedio = NumeroDigito/5\n",
        "print(promedio)"
      ],
      "metadata": {
        "colab": {
          "base_uri": "https://localhost:8080/"
        },
        "id": "27RH4WrfZkeX",
        "outputId": "c5fd7b55-39e8-4a7a-93f9-bcb8080604e3"
      },
      "execution_count": 37,
      "outputs": [
        {
          "output_type": "stream",
          "name": "stdout",
          "text": [
            "Digite numero 1: 1\n",
            "Digite numero 2: 2\n",
            "Digite numero 3: 3\n",
            "Digite numero 4: 4\n",
            "Digite numero 5: 5\n",
            "3.0\n"
          ]
        }
      ]
    },
    {
      "cell_type": "code",
      "source": [
        "#5.1\n",
        "NumeroDigito = 0\n",
        "TodosNumeros = []\n",
        "for i in range(5):\n",
        "  Digito = int(input(f\"Digite numero {i+1}: \"))\n",
        "  NumeroDigito += Digito\n",
        "  TodosNumeros.append(Digito)\n",
        "promedio = NumeroDigito/5\n",
        "print(TodosNumeros)\n",
        "print(promedio)"
      ],
      "metadata": {
        "colab": {
          "base_uri": "https://localhost:8080/"
        },
        "id": "DhdtFatRZo7x",
        "outputId": "2bd1a4eb-b9f3-4226-a401-fca3e7c94457"
      },
      "execution_count": 41,
      "outputs": [
        {
          "output_type": "stream",
          "name": "stdout",
          "text": [
            "Digite numero 1: 3\n",
            "Digite numero 2: 4\n",
            "Digite numero 3: 5\n",
            "Digite numero 4: 6\n",
            "Digite numero 5: 7\n",
            "[3, 4, 5, 6, 7]\n",
            "5.0\n"
          ]
        }
      ]
    },
    {
      "cell_type": "markdown",
      "source": [
        "## ejercicio 6"
      ],
      "metadata": {
        "id": "E9D3JLkgbR0P"
      }
    },
    {
      "cell_type": "code",
      "source": [
        "#6.1\n",
        "ContadorPares = 0\n",
        "Numero = int(input(\"Digite su numero: \"))\n",
        "for i in range (1,Numero + 1):\n",
        "    if (i % 2 == 0):\n",
        "      ContadorPares += 1\n",
        "print(ContadorPares)"
      ],
      "metadata": {
        "colab": {
          "base_uri": "https://localhost:8080/"
        },
        "id": "8I3A5mYIbTzE",
        "outputId": "d5e5bbb1-4a99-4c41-91f3-97ed837526b7"
      },
      "execution_count": 42,
      "outputs": [
        {
          "output_type": "stream",
          "name": "stdout",
          "text": [
            "Digite su numero: 7\n",
            "3\n"
          ]
        }
      ]
    },
    {
      "cell_type": "code",
      "source": [
        "#6.2\n",
        "ContadorPares = 0\n",
        "ListaNumeros = []\n",
        "Numero = int(input(\"Digite su numero: \"))\n",
        "for i in range (1,Numero + 1):\n",
        "    if (i % 2 == 0):\n",
        "      ContadorPares += 1\n",
        "      ListaNumeros.append(i)\n",
        "print(f\"Los pares antes que {Numero} son: {ContadorPares}\")\n",
        "print(f\"Su numeros pares anteriores son: {ListaNumeros}\")"
      ],
      "metadata": {
        "colab": {
          "base_uri": "https://localhost:8080/"
        },
        "id": "5ptODdrDcPxk",
        "outputId": "2a4bdc12-a4fa-406a-b641-4a5f5895f80d"
      },
      "execution_count": 54,
      "outputs": [
        {
          "output_type": "stream",
          "name": "stdout",
          "text": [
            "Digite su numero: 4\n",
            "2\n",
            "[2, 4]\n"
          ]
        }
      ]
    },
    {
      "cell_type": "markdown",
      "source": [
        "##ejercicio 7"
      ],
      "metadata": {
        "id": "gqD_-NaDe_m_"
      }
    }
  ]
}