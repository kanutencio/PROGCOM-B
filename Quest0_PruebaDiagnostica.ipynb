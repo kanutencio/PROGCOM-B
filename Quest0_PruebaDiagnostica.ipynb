{
  "nbformat": 4,
  "nbformat_minor": 0,
  "metadata": {
    "colab": {
      "provenance": []
    },
    "kernelspec": {
      "name": "python3",
      "display_name": "Python 3"
    },
    "language_info": {
      "name": "python"
    }
  },
  "cells": [
    {
      "cell_type": "markdown",
      "source": [
        "#Prueba diagnostica\n",
        "\n"
      ],
      "metadata": {
        "id": "czXMO0fvn8t4"
      }
    },
    {
      "cell_type": "markdown",
      "source": [
        "parte 1\n"
      ],
      "metadata": {
        "id": "Bz1VTjFKqVss"
      }
    },
    {
      "cell_type": "code",
      "source": [
        "#1\n",
        "Numero = int(input(\"Digame un numero: \"))\n",
        "\n",
        "if Numero > 0:\n",
        "  print(\"Su numero es positivo\")\n",
        "else:\n",
        "  print(\"Su numero no es positivo\")\n"
      ],
      "metadata": {
        "colab": {
          "base_uri": "https://localhost:8080/"
        },
        "id": "J_fvjsMspsVA",
        "outputId": "889da766-2d1c-4d41-adfe-0d7ff05c6011"
      },
      "execution_count": 4,
      "outputs": [
        {
          "output_type": "stream",
          "name": "stdout",
          "text": [
            "Digame un numero-2\n",
            "Su numero no es positivo\n"
          ]
        }
      ]
    },
    {
      "cell_type": "code",
      "source": [
        "#2\n",
        "Edad = int(input(\"Digame su edad: \"))\n",
        "\n",
        "if Edad >= 18:\n",
        "  print(\"Usted es mayor de edad\")\n",
        "else:\n",
        "  print(\"Usted es menor de edad\")\n"
      ],
      "metadata": {
        "colab": {
          "base_uri": "https://localhost:8080/"
        },
        "id": "0IwhnvASrqOi",
        "outputId": "f9ae82bc-e396-4cf1-d45c-1db5e4bd81de"
      },
      "execution_count": 8,
      "outputs": [
        {
          "output_type": "stream",
          "name": "stdout",
          "text": [
            "Digame su edad18\n",
            "Usted es mayor de edad\n"
          ]
        }
      ]
    },
    {
      "cell_type": "code",
      "execution_count": 13,
      "metadata": {
        "colab": {
          "base_uri": "https://localhost:8080/"
        },
        "id": "CxUetv3WnUrH",
        "outputId": "5f825afb-a13c-473c-86bb-c6c5a80e6a53"
      },
      "outputs": [
        {
          "output_type": "stream",
          "name": "stdout",
          "text": [
            "Digite el numero uno: 5\n",
            "Digite el numero dos: 7\n",
            "El numero 7 es mayor que 5\n"
          ]
        }
      ],
      "source": [
        "#3\n",
        "Numero1= int(input(\"Digite el numero uno: \"))\n",
        "Numero2 = int(input(\"Digite el numero dos: \"))\n",
        "\n",
        "if Numero1 == Numero2:\n",
        "  print(f\"Los numeros {Numero1} y {Numero2} son iguales\")\n",
        "elif Numero1 > Numero2:\n",
        "  print(f\"El numero {Numero1} es mayor que {Numero2}\")\n",
        "else:\n",
        "  print(f\"El numero {Numero2} es mayor que {Numero1}\")"
      ]
    },
    {
      "cell_type": "code",
      "source": [
        "#4\n",
        "Calificacion = int(input(\"Digame su califucacion: \"))\n",
        "\n",
        "if Calificacion < 100:\n",
        "  if Calificacion >= 60:\n",
        "    print(\"Usted aprobo\")\n",
        "  else:\n",
        "    print(\"USted reprobo\")\n",
        "else:\n",
        "  print(\"Su calificacion no es valida\")\n"
      ],
      "metadata": {
        "colab": {
          "base_uri": "https://localhost:8080/"
        },
        "id": "6ojuAr5Xruec",
        "outputId": "5502e5b9-e1a3-4891-c49f-241ef3661d6d"
      },
      "execution_count": 16,
      "outputs": [
        {
          "output_type": "stream",
          "name": "stdout",
          "text": [
            "Digame su califucacion: 101\n",
            "Su calificacion no es valida\n"
          ]
        }
      ]
    },
    {
      "cell_type": "code",
      "source": [
        "#5\n",
        "Numero = int(input(\"Digite el numero a evaluar: \"))\n",
        "\n",
        "NumeroEvaluar = Numero % 2\n",
        "if NumeroEvaluar == 0:\n",
        "    print(\"Su numero es par\")\n",
        "else:\n",
        "  print(\"Su numero es impar\")"
      ],
      "metadata": {
        "colab": {
          "base_uri": "https://localhost:8080/"
        },
        "id": "nXcKrFBZwN_X",
        "outputId": "df0239f4-b9de-4ca6-a496-f7216d536820"
      },
      "execution_count": 28,
      "outputs": [
        {
          "output_type": "stream",
          "name": "stdout",
          "text": [
            "Digite el numero a evaluar: 6\n",
            "Su numero es par\n"
          ]
        }
      ]
    },
    {
      "cell_type": "code",
      "source": [
        "#6\n",
        "\n",
        "Numero1= int(input(\"Digite el numero uno: \"))\n",
        "Numero2 = int(input(\"Digite el numero dos: \"))\n",
        "Numero3 = int(input(\"Digite el numero tres: \"))\n",
        "\n",
        "if Numero1 > Numero2 and Numero1 >Numero2:\n",
        "  print(f\"El numero mayor es: {Numero1}\")\n",
        "elif Numero2 > Numero1 and Numero2 > Numero3:\n",
        "  print(f\"Ek numero mayor es: {Numero2}\")\n",
        "else:\n",
        "  print(f\"El numero mayor es: {Numero3}\")"
      ],
      "metadata": {
        "colab": {
          "base_uri": "https://localhost:8080/"
        },
        "id": "TktyHOChwgUo",
        "outputId": "876cb017-e4da-49d9-bc3f-4389aa61d092"
      },
      "execution_count": 31,
      "outputs": [
        {
          "output_type": "stream",
          "name": "stdout",
          "text": [
            "Digite el numero uno: 5\n",
            "Digite el numero dos: 4\n",
            "Digite el numero tres: 3\n",
            "El numero mayor es: 5\n"
          ]
        }
      ]
    },
    {
      "cell_type": "code",
      "source": [
        "#7\n",
        "\n",
        "AñoDigitado = int(input(\"Diguite su año: \"))\n",
        "\n",
        "if (AñoDigitado % 4) == 0 and (AñoDigitado % 100) != 0:\n",
        "  print(f\"El año {AñoDigitado} es bisiesto\")\n",
        "\n",
        "elif (AñoDigitado % 100) == 0 and (AñoDigitado % 400) != 0:\n",
        "  print(f\"El año {AñoDigitado} no es bisiesto\")\n",
        "\n",
        "elif (AñoDigitado % 100) == 0 and (AñoDigitado % 400) == 0:\n",
        "  print(f\"El año {AñoDigitado} fue bisiesto\")\n",
        "\n",
        "else:\n",
        "  print(f\"El año {AñoDigitado} no fue bisiesto\")\n",
        ""
      ],
      "metadata": {
        "id": "Vc8-PwMVxSGc"
      },
      "execution_count": null,
      "outputs": []
    },
    {
      "cell_type": "code",
      "source": [],
      "metadata": {
        "id": "QA6tB2b41ykj"
      },
      "execution_count": null,
      "outputs": []
    }
  ]
}