{
  "nbformat": 4,
  "nbformat_minor": 0,
  "metadata": {
    "colab": {
      "provenance": [],
      "authorship_tag": "ABX9TyPpuuYuMHNf3UUbjsnS4gI+",
      "include_colab_link": true
    },
    "kernelspec": {
      "name": "python3",
      "display_name": "Python 3"
    },
    "language_info": {
      "name": "python"
    }
  },
  "cells": [
    {
      "cell_type": "markdown",
      "metadata": {
        "id": "view-in-github",
        "colab_type": "text"
      },
      "source": [
        "<a href=\"https://colab.research.google.com/github/kanutencio/PROGCOM-B/blob/main/clase6%3Bdiccionarios.ipynb\" target=\"_parent\"><img src=\"https://colab.research.google.com/assets/colab-badge.svg\" alt=\"Open In Colab\"/></a>"
      ]
    },
    {
      "cell_type": "markdown",
      "source": [
        "##Diccionarios\n",
        "Estructura de datos que almacena valores\n",
        "\n",
        "sintaxis\n",
        "\n",
        "\n",
        "```\n",
        "Nombre_Diccionario = {\"llave\":valor}\n",
        "```\n",
        "\n",
        "llave: siempre tiene que ser alfanumerico\n",
        "valor: cialquier tipo de dato\n"
      ],
      "metadata": {
        "id": "Io7xC68Pa-H_"
      }
    },
    {
      "cell_type": "code",
      "execution_count": 16,
      "metadata": {
        "colab": {
          "base_uri": "https://localhost:8080/",
          "height": 36
        },
        "id": "tiTLe-_pamaY",
        "outputId": "d25d18a6-9caf-4ced-a35a-3ce9e438663a"
      },
      "outputs": [
        {
          "output_type": "execute_result",
          "data": {
            "text/plain": [
              "'Wonder Woman'"
            ],
            "application/vnd.google.colaboratory.intrinsic+json": {
              "type": "string"
            }
          },
          "metadata": {},
          "execution_count": 16
        }
      ],
      "source": [
        "LigaJusticia = {\"SuperHeroes\":[\"Batman\", \"Superman\", \"Wonder Woman\"], \"identidades\":[\"Bruce Wayne\", \"Clark Kent\", \"Diana Prince\"]}\n",
        "LigaJusticia[\"SuperHeroes\"][2]"
      ]
    },
    {
      "cell_type": "markdown",
      "source": [
        "##.popitem()\n",
        "elimina el ultimo elemento en este caso es identidades"
      ],
      "metadata": {
        "id": "dJWRfzybgZ5z"
      }
    },
    {
      "cell_type": "code",
      "source": [
        "x = LigaJusticia.popitem()\n",
        "print(x)"
      ],
      "metadata": {
        "colab": {
          "base_uri": "https://localhost:8080/"
        },
        "id": "wXX9twmGefGf",
        "outputId": "a893ef40-6e41-40b4-80c7-e9ee5ee6f871"
      },
      "execution_count": 19,
      "outputs": [
        {
          "output_type": "stream",
          "name": "stdout",
          "text": [
            "('SuperHeroes', ['Batman', 'Superman', 'Wonder Woman'])\n"
          ]
        }
      ]
    },
    {
      "cell_type": "markdown",
      "source": [
        "##.setdefault()\n",
        "\n",
        "devuelve el valor del elemento con la clave especificada."
      ],
      "metadata": {
        "id": "E-i0wA-sglxL"
      }
    },
    {
      "cell_type": "code",
      "source": [
        "y = LigaJusticia.setdefault(\"SuperHeroes\")\n",
        "print(y)"
      ],
      "metadata": {
        "colab": {
          "base_uri": "https://localhost:8080/"
        },
        "id": "c6J655WdhRoN",
        "outputId": "f2ceeb08-041f-48ca-edef-efa353dc02c1"
      },
      "execution_count": 22,
      "outputs": [
        {
          "output_type": "stream",
          "name": "stdout",
          "text": [
            "None\n"
          ]
        }
      ]
    },
    {
      "cell_type": "markdown",
      "source": [
        "##.update()\n",
        "inserta los elementos especificados en el diccionario."
      ],
      "metadata": {
        "id": "ZNyy0luLgy0G"
      }
    },
    {
      "cell_type": "code",
      "source": [
        "LigaJusticia.update({\"Villanos\":[\"flash reverso\",\"savitar\",\"zoom\"]})\n",
        "LigaJusticia"
      ],
      "metadata": {
        "colab": {
          "base_uri": "https://localhost:8080/"
        },
        "id": "ncupOFUbjPMd",
        "outputId": "d10f91a1-f2d4-4120-d738-3487a9a48f82"
      },
      "execution_count": 27,
      "outputs": [
        {
          "output_type": "execute_result",
          "data": {
            "text/plain": [
              "{'SuperHeroes': None, 'Villanos': ['flash reverso', 'savitar', 'zoom']}"
            ]
          },
          "metadata": {},
          "execution_count": 27
        }
      ]
    },
    {
      "cell_type": "markdown",
      "source": [
        "##.values()\n",
        " devuelve un objeto de vista. Este objeto contiene los valores del diccionario en forma de lista."
      ],
      "metadata": {
        "id": "se5SlHY-kMDN"
      }
    },
    {
      "cell_type": "code",
      "source": [
        "z = LigaJusticia.values()\n",
        "z"
      ],
      "metadata": {
        "colab": {
          "base_uri": "https://localhost:8080/"
        },
        "id": "CF5ESbMTkMdC",
        "outputId": "e2cd3954-59df-4da4-d18b-9c743901bd12"
      },
      "execution_count": 29,
      "outputs": [
        {
          "output_type": "execute_result",
          "data": {
            "text/plain": [
              "dict_values([None, ['flash reverso', 'savitar', 'zoom']])"
            ]
          },
          "metadata": {},
          "execution_count": 29
        }
      ]
    },
    {
      "cell_type": "markdown",
      "source": [
        "##.get()\n",
        "devuelve el valor del elemento con la clave especificada."
      ],
      "metadata": {
        "id": "5vvZlmI4n_6A"
      }
    },
    {
      "cell_type": "code",
      "source": [
        "LigaJusticia = {\"SuperHeroes\":[\"Batman\", \"Superman\", \"Wonder Woman\"], \"identidades\":[\"Bruce Wayne\", \"Clark Kent\", \"Diana Prince\"]}\n",
        "u = LigaJusticia.get(\"SuperHeroes\")\n",
        "print(u)"
      ],
      "metadata": {
        "colab": {
          "base_uri": "https://localhost:8080/"
        },
        "id": "70BHRQmDoA6Q",
        "outputId": "7ce79c72-4a0b-40ec-f2c8-aa5da8435ebd"
      },
      "execution_count": 33,
      "outputs": [
        {
          "output_type": "stream",
          "name": "stdout",
          "text": [
            "['Batman', 'Superman', 'Wonder Woman']\n"
          ]
        }
      ]
    },
    {
      "cell_type": "markdown",
      "source": [
        "##ejemplo con fromkeys con la lista liga_justicia\n"
      ],
      "metadata": {
        "id": "ueToMba9o1CM"
      }
    },
    {
      "cell_type": "code",
      "source": [
        "llaves = [\"superheroes\", \"Identidades\"]\n",
        "valores = [\"Flash\", \"Kid Flash\"]\n",
        "heroes = dict.fromkeys(llaves,valores)\n",
        "heroes"
      ],
      "metadata": {
        "colab": {
          "base_uri": "https://localhost:8080/"
        },
        "id": "Pc_eo7LUo6Qc",
        "outputId": "87545597-c8ea-470a-ddf5-bf8c6e012e37"
      },
      "execution_count": 35,
      "outputs": [
        {
          "output_type": "execute_result",
          "data": {
            "text/plain": [
              "{'superheroes': ['Flash', 'Kid Flash'], 'Identidades': ['Flash', 'Kid Flash']}"
            ]
          },
          "metadata": {},
          "execution_count": 35
        }
      ]
    },
    {
      "cell_type": "markdown",
      "source": [
        "##ahora ejemplo con con copy\n"
      ],
      "metadata": {
        "id": "Q9YcNoY3pIJt"
      }
    },
    {
      "cell_type": "code",
      "source": [
        "LigaJusticia = {\"SuperHeroes\":[\"Batman\", \"Superman\", \"Wonder Woman\"], \"identidades\":[\"Bruce Wayne\", \"Clark Kent\", \"Diana Prince\"]}\n",
        "justiciajoven = {}\n",
        "justiciajoven = LigaJusticia.copy()\n",
        "justiciajoven"
      ],
      "metadata": {
        "colab": {
          "base_uri": "https://localhost:8080/"
        },
        "id": "lkaWgp72pLhc",
        "outputId": "6c6811da-d23b-4a58-eee0-9e190ffba232"
      },
      "execution_count": 38,
      "outputs": [
        {
          "output_type": "execute_result",
          "data": {
            "text/plain": [
              "{'SuperHeroes': ['Batman', 'Superman', 'Wonder Woman'],\n",
              " 'identidades': ['Bruce Wayne', 'Clark Kent', 'Diana\\xa0Prince']}"
            ]
          },
          "metadata": {},
          "execution_count": 38
        }
      ]
    },
    {
      "cell_type": "markdown",
      "source": [
        "##.items()\n",
        "muestra todos los elementos del diccionario\n"
      ],
      "metadata": {
        "id": "WPAm1VoopoCm"
      }
    },
    {
      "cell_type": "code",
      "source": [
        "LigaJusticia.items()"
      ],
      "metadata": {
        "colab": {
          "base_uri": "https://localhost:8080/"
        },
        "id": "AYfQeZBZpqtu",
        "outputId": "64d65609-18e2-4cf2-a247-106e07cffd0f"
      },
      "execution_count": 39,
      "outputs": [
        {
          "output_type": "execute_result",
          "data": {
            "text/plain": [
              "dict_items([('SuperHeroes', ['Batman', 'Superman', 'Wonder Woman']), ('identidades', ['Bruce Wayne', 'Clark Kent', 'Diana\\xa0Prince'])])"
            ]
          },
          "metadata": {},
          "execution_count": 39
        }
      ]
    },
    {
      "cell_type": "markdown",
      "source": [
        "#vamos hacer un ejemplo con la con clear\n"
      ],
      "metadata": {
        "id": "lh66Z1MPpz15"
      }
    },
    {
      "cell_type": "code",
      "source": [
        "LigaJusticia.clear()\n",
        "LigaJusticia"
      ],
      "metadata": {
        "colab": {
          "base_uri": "https://localhost:8080/"
        },
        "id": "wjLT7dysp2On",
        "outputId": "1b09ee4b-0fdf-41e2-b858-e3a15c8b78d3"
      },
      "execution_count": 40,
      "outputs": [
        {
          "output_type": "execute_result",
          "data": {
            "text/plain": [
              "{}"
            ]
          },
          "metadata": {},
          "execution_count": 40
        }
      ]
    },
    {
      "cell_type": "markdown",
      "source": [
        "##.key\n",
        "Nos muestra las llaves que hay en el diccionario.\n"
      ],
      "metadata": {
        "id": "wmM6pw-1p6tz"
      }
    },
    {
      "cell_type": "code",
      "source": [
        "LigaJusticia = {\"SuperHeroes\":[\"Batman\", \"Superman\", \"Wonder Woman\"], \"identidades\":[\"Bruce Wayne\", \"Clark Kent\", \"Diana Prince\"]}\n",
        "LigaJusticia.keys()"
      ],
      "metadata": {
        "colab": {
          "base_uri": "https://localhost:8080/"
        },
        "id": "GyMvIepWp96Q",
        "outputId": "19b534da-3f2e-43f0-d453-7c0da89edf1f"
      },
      "execution_count": 41,
      "outputs": [
        {
          "output_type": "execute_result",
          "data": {
            "text/plain": [
              "dict_keys(['SuperHeroes', 'identidades'])"
            ]
          },
          "metadata": {},
          "execution_count": 41
        }
      ]
    },
    {
      "cell_type": "markdown",
      "source": [
        "##.pop\n",
        "Elimina una de las llaves presentes en el diccionario.\n"
      ],
      "metadata": {
        "id": "OculQ4oLqEJx"
      }
    },
    {
      "cell_type": "code",
      "source": [
        "LigaJusticia.pop('SuperHeroes')\n",
        "LigaJusticia"
      ],
      "metadata": {
        "colab": {
          "base_uri": "https://localhost:8080/"
        },
        "id": "P8UeyngrqHZ8",
        "outputId": "1fb1eaa1-b32b-402a-d5cc-f8e55021ddf0"
      },
      "execution_count": 43,
      "outputs": [
        {
          "output_type": "execute_result",
          "data": {
            "text/plain": [
              "{'identidades': ['Bruce Wayne', 'Clark Kent', 'Diana\\xa0Prince']}"
            ]
          },
          "metadata": {},
          "execution_count": 43
        }
      ]
    }
  ]
}