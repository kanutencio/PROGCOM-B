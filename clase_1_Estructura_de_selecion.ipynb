{
  "nbformat": 4,
  "nbformat_minor": 0,
  "metadata": {
    "colab": {
      "provenance": [],
      "authorship_tag": "ABX9TyMusoXUWvOruvbWWQPy1nmm",
      "include_colab_link": true
    },
    "kernelspec": {
      "name": "python3",
      "display_name": "Python 3"
    },
    "language_info": {
      "name": "python"
    }
  },
  "cells": [
    {
      "cell_type": "markdown",
      "metadata": {
        "id": "view-in-github",
        "colab_type": "text"
      },
      "source": [
        "<a href=\"https://colab.research.google.com/github/kanutencio/PROGCOM-B/blob/main/clase_1_Estructura_de_selecion.ipynb\" target=\"_parent\"><img src=\"https://colab.research.google.com/assets/colab-badge.svg\" alt=\"Open In Colab\"/></a>"
      ]
    },
    {
      "cell_type": "markdown",
      "source": [
        "#estructura de selecion\n",
        "se emplea cuando quiero evaluar una condicion. El resultado va de la evaluacion de esta condicion siempre se da en booleano(V or F)"
      ],
      "metadata": {
        "id": "XT44owAXLADL"
      }
    },
    {
      "cell_type": "code",
      "source": [
        "#año bisiesto\n",
        "\n",
        "año = int(input(\"Introduzca su año: \"))\n",
        "if(año % 4 == 0 and año % 100 != 0):\n",
        "  print(f\"{año} es bisiesto\")\n",
        "else:\n",
        "  if(año % 400 == 0):\n",
        "    print(f\"{año} es bisiesto\")\n",
        "  else:\n",
        "    print(f\"{año} no es bisiesto\")"
      ],
      "metadata": {
        "colab": {
          "base_uri": "https://localhost:8080/"
        },
        "id": "xx0czJ5lLDLR",
        "outputId": "a1055170-499c-4371-9cd3-2f3aa66e99b8"
      },
      "execution_count": 4,
      "outputs": [
        {
          "output_type": "stream",
          "name": "stdout",
          "text": [
            "Introduzca su año: 1840\n",
            "1840 es bisiesto\n"
          ]
        }
      ]
    },
    {
      "cell_type": "markdown",
      "source": [
        "#Estructura de condicion multimple if-else-elif\n",
        "\n",
        "se emplea cuando hay mas de una decision\n",
        "\n",
        "=====\n",
        "if(condicion 1):\n",
        "  si condicion 1 es verdadera entro aqui\n",
        "elif(condicion 2):\n",
        "  si condicion 1 es falsa y condicion 2 es verdadera entro aqui\n",
        "else:\n",
        "  si condicion 1 es falsa y condicion 2 es falsa entro aqui"
      ],
      "metadata": {
        "id": "1MGb3UWMO7TH"
      }
    },
    {
      "cell_type": "code",
      "source": [
        "año = int(input(\"Introduzca su año: \"))\n",
        "if(año % 4 == 0 and año % 100 != 0): print(f\"{año} es bisiesto\")\n",
        "elif(año % 400 == 0):print(f\"{año} es bisiesto\")\n",
        "else:print(f\"{año} no es bisiesto\")"
      ],
      "metadata": {
        "id": "0yK8v8q3O0ZN"
      },
      "execution_count": null,
      "outputs": []
    },
    {
      "cell_type": "markdown",
      "source": [
        "#operador terniario\n",
        "Programar una estructura de la seleccion en una sola linea de codigo\n",
        "\n",
        "------\n",
        "(lo que se debe ejecutar, si la condicion es verdadera) if (condicion) else (lo que se debe ejecutar si la condicion es falsa.)"
      ],
      "metadata": {
        "id": "J3_lRiuhVDIk"
      }
    },
    {
      "cell_type": "markdown",
      "source": [
        "ejercicios"
      ],
      "metadata": {
        "id": "kbKm-URmQmNI"
      }
    },
    {
      "cell_type": "code",
      "source": [
        "#1.1\n",
        "Numero = int(input(\"Digame un numero: \"))\n",
        "\n",
        "if Numero > 0:\n",
        "  print(\"Su numero es positivo\")\n",
        "else:\n",
        "  print(\"Su numero no es positivo\")"
      ],
      "metadata": {
        "id": "uOk08LUDQolK"
      },
      "execution_count": null,
      "outputs": []
    },
    {
      "cell_type": "code",
      "source": [
        "#1.2\n",
        "Numero = int(input(\"Digame un numero: \"))\n",
        "\n",
        "if Numero > 0:\n",
        "  print(\"Su numero es positivo\")\n",
        "elif(Numero == 0):\n",
        "  print(\"Su numero es 0\")\n",
        "else:\n",
        "  print(\"Su numero no es positivo\")\n"
      ],
      "metadata": {
        "id": "qPNnWp-SRP3k"
      },
      "execution_count": null,
      "outputs": []
    },
    {
      "cell_type": "code",
      "source": [
        "#1.3\n",
        "Numero = int(input(\"Digame un numero: \"))\n",
        "print(\"Su numero es positivo\") if (Numero > 0) else print(\"Su numero no es positivo\")"
      ],
      "metadata": {
        "colab": {
          "base_uri": "https://localhost:8080/"
        },
        "id": "39nLEeJpVuyy",
        "outputId": "6687ac4a-52a4-4d1b-8427-90aaf1c2777b"
      },
      "execution_count": 8,
      "outputs": [
        {
          "output_type": "stream",
          "name": "stdout",
          "text": [
            "Digame un numero: -20\n",
            "Su numero no es positivo\n"
          ]
        }
      ]
    },
    {
      "cell_type": "markdown",
      "source": [
        "ejercicio 2\n"
      ],
      "metadata": {
        "id": "EesNPd2gRtf7"
      }
    },
    {
      "cell_type": "code",
      "source": [
        "#2.1\n",
        "Edad = int(input(\"Digame su edad: \"))\n",
        "\n",
        "if Edad >= 18:\n",
        "  print(\"Usted es mayor de edad\")\n",
        "else:\n",
        "  print(\"Usted es menor de edad\")\n"
      ],
      "metadata": {
        "id": "ehiZsx-5RsQp"
      },
      "execution_count": null,
      "outputs": []
    },
    {
      "cell_type": "code",
      "source": [
        "#2.2\n",
        "Edad = int(input(\"Digame su edad: \"))\n",
        "\n",
        "if Edad >= 18:\n",
        "  print(\"Usted es mayor de edad\")\n",
        "elif (Edad == 18):\n",
        "    print(\"Uy justo pa tomar. Felicidades\")\n",
        "else:\n",
        "  print(\"Usted es menor de edad\")\n"
      ],
      "metadata": {
        "id": "FFJ9pXv9RysL"
      },
      "execution_count": null,
      "outputs": []
    },
    {
      "cell_type": "code",
      "source": [
        "#2.3\n",
        "Edad = int(input(\"Digame su edad: \"))\n",
        "print(\"Usted es mayor de edad\") if Edad >= 18 else print(\"Usted es menor de edad\")"
      ],
      "metadata": {
        "id": "Jm4pRts2WJgJ"
      },
      "execution_count": null,
      "outputs": []
    },
    {
      "cell_type": "markdown",
      "source": [
        "ejercicio 3"
      ],
      "metadata": {
        "id": "47g4ZzcBSILe"
      }
    },
    {
      "cell_type": "code",
      "source": [
        "#3.1\n",
        "Numero1= int(input(\"Digite el numero uno: \"))\n",
        "Numero2 = int(input(\"Digite el numero dos: \"))\n",
        "\n",
        "if Numero1 == Numero2:\n",
        "  print(f\"Los numeros {Numero1} y {Numero2} son iguales\")\n",
        "else:\n",
        "  print(f\"El numero {Numero1} es mayor que {Numero2}\")"
      ],
      "metadata": {
        "id": "EgHBWa9XSRlP"
      },
      "execution_count": null,
      "outputs": []
    },
    {
      "cell_type": "code",
      "source": [
        "#3.2\n",
        "Numero1= int(input(\"Digite el numero uno: \"))\n",
        "Numero2 = int(input(\"Digite el numero dos: \"))\n",
        "\n",
        "if Numero1 == Numero2:\n",
        "  print(f\"Los numeros {Numero1} y {Numero2} son iguales\")\n",
        "elif Numero1 > Numero2:\n",
        "  print(f\"El numero {Numero1} es mayor que {Numero2}\")\n",
        "else:\n",
        "  print(f\"El numero {Numero2} es mayor que {Numero1}\")"
      ],
      "metadata": {
        "id": "KBMQK82kSLle"
      },
      "execution_count": null,
      "outputs": []
    },
    {
      "cell_type": "code",
      "source": [
        "#3.3\n",
        "Numero1= int(input(\"Digite el numero uno: \"))\n",
        "Numero2 = int(input(\"Digite el numero dos: \"))\n",
        "\n",
        "print(f\"Los numeros {Numero1} y {Numero2} son iguales\") if Numero1 == Numero2 else print(f\"El numero {Numero1} es mayor que {Numero2}\")"
      ],
      "metadata": {
        "id": "5sm9lQicWS7k"
      },
      "execution_count": null,
      "outputs": []
    },
    {
      "cell_type": "markdown",
      "source": [
        "ejercicio 4\n"
      ],
      "metadata": {
        "id": "xoteVlWRSW4e"
      }
    },
    {
      "cell_type": "code",
      "source": [
        "#4.1\n",
        "Calificacion = int(input(\"Digame su califucacion: \"))\n",
        "\n",
        "if Calificacion >= 60:\n",
        "  print(\"Usted aprobo\")\n",
        "else:\n",
        "  print(\"USted reprobo\")\n"
      ],
      "metadata": {
        "id": "KOsyiJp5ShCs"
      },
      "execution_count": null,
      "outputs": []
    },
    {
      "cell_type": "code",
      "source": [
        "#4.2\n",
        "Calificacion = int(input(\"Digame su califucacion: \"))\n",
        "\n",
        "if Calificacion < 100:\n",
        "  if Calificacion >= 60:\n",
        "    print(\"Usted aprobo\")\n",
        "  else:\n",
        "    print(\"USted reprobo\")\n",
        "else:\n",
        "  print(\"Su calificacion no es valida\")"
      ],
      "metadata": {
        "id": "kH_HWw4dSYVR"
      },
      "execution_count": null,
      "outputs": []
    },
    {
      "cell_type": "code",
      "source": [
        "#4.3\n",
        "Calificacion = int(input(\"Digame su califucacion: \"))\n",
        "\n",
        "print(\"Usted aprobo\") if Calificacion >= 60 else print(\"USted reprobo\")\n"
      ],
      "metadata": {
        "id": "rzzdFmlHWct-"
      },
      "execution_count": null,
      "outputs": []
    },
    {
      "cell_type": "markdown",
      "source": [
        "ejercicio 5\n"
      ],
      "metadata": {
        "id": "5thrZwlCS6gL"
      }
    },
    {
      "cell_type": "code",
      "source": [
        "#5.1\n",
        "Numero = int(input(\"Digite el numero a evaluar: \"))\n",
        "\n",
        "NumeroEvaluar = Numero % 2\n",
        "if NumeroEvaluar == 0:\n",
        "    print(\"Su numero es par\")\n",
        "else:\n",
        "  print(\"Su numero es impar\")"
      ],
      "metadata": {
        "id": "zLfjq2xeS793"
      },
      "execution_count": null,
      "outputs": []
    },
    {
      "cell_type": "code",
      "source": [
        "#5.2\n",
        "Numero = int(input(\"Digite el numero a evaluar: \"))\n",
        "\n",
        "NumeroEvaluar = Numero % 2\n",
        "if Numero == 0:\n",
        "    print(\"El 0 no es ni par ni impar\")\n",
        "elif NumeroEvaluar == 0:\n",
        "    print(\"Su numero es par\")\n",
        "else:\n",
        "  print(\"Su numero es impar\")"
      ],
      "metadata": {
        "colab": {
          "base_uri": "https://localhost:8080/"
        },
        "id": "dMw951VcTG14",
        "outputId": "aaf8acf3-f56a-467a-c29a-5b8bb09a941e"
      },
      "execution_count": 6,
      "outputs": [
        {
          "output_type": "stream",
          "name": "stdout",
          "text": [
            "Digite el numero a evaluar: 0\n",
            "Su numero es par\n"
          ]
        }
      ]
    },
    {
      "cell_type": "code",
      "source": [
        "#5.1\n",
        "Numero = int(input(\"Digite el numero a evaluar: \"))\n",
        "\n",
        "print(\"Su numero es par\") if Numero% 2 == 0 else print(\"Su numero es impar\")"
      ],
      "metadata": {
        "id": "e2z7eF-bWk8l"
      },
      "execution_count": null,
      "outputs": []
    },
    {
      "cell_type": "markdown",
      "source": [
        "ejercicio 6"
      ],
      "metadata": {
        "id": "bTlZz9IdTjrE"
      }
    },
    {
      "cell_type": "code",
      "source": [
        "#6.1\n",
        "\n",
        "Numero1= int(input(\"Digite el numero uno: \"))\n",
        "Numero2 = int(input(\"Digite el numero dos: \"))\n",
        "Numero3 = int(input(\"Digite el numero tres: \"))\n",
        "\n",
        "if Numero1 > Numero2 and Numero1 >Numero2:\n",
        "  print(f\"El numero mayor es: {Numero1}\")\n",
        "else:\n",
        "  print(f\"El numero mayor es: {Numero3}\")\n",
        "if Numero2 > Numero1 and Numero2 > Numero3:\n",
        "  print(f\"Ek numero mayor es: {Numero2}\")\n",
        "else:\n",
        "  print(f\"El numero mayor es: {Numero3}\")"
      ],
      "metadata": {
        "id": "oismlhI3TwF-"
      },
      "execution_count": null,
      "outputs": []
    },
    {
      "cell_type": "code",
      "source": [
        "#6.2\n",
        "\n",
        "Numero1= int(input(\"Digite el numero uno: \"))\n",
        "Numero2 = int(input(\"Digite el numero dos: \"))\n",
        "Numero3 = int(input(\"Digite el numero tres: \"))\n",
        "\n",
        "if Numero1 > Numero2 and Numero1 >Numero2:\n",
        "  print(f\"El numero mayor es: {Numero1}\")\n",
        "elif Numero2 > Numero1 and Numero2 > Numero3:\n",
        "  print(f\"Ek numero mayor es: {Numero2}\")\n",
        "else:\n",
        "  print(f\"El numero mayor es: {Numero3}\")"
      ],
      "metadata": {
        "id": "aedGinnPToSl"
      },
      "execution_count": null,
      "outputs": []
    },
    {
      "cell_type": "code",
      "source": [
        "#6.3\n",
        "\n",
        "Numero1= int(input(\"Digite el numero uno: \"))\n",
        "Numero2 = int(input(\"Digite el numero dos: \"))\n",
        "Numero3 = int(input(\"Digite el numero tres: \"))\n",
        "\n",
        "print(f\"El numero mayor es: {Numero1}\") if Numero1 > Numero2 and Numero1 >Numero2 else print(f\"El numero mayor es: {Numero3}\")\n",
        "\n",
        "\n",
        "print(f\"Ek numero mayor es: {Numero2}\") if Numero2 > Numero1 and Numero2 > Numero3 else print(f\"El numero mayor es: {Numero3}\")"
      ],
      "metadata": {
        "id": "gWEwUN-dW6Mm"
      },
      "execution_count": null,
      "outputs": []
    },
    {
      "cell_type": "markdown",
      "source": [
        "ejercicio 7"
      ],
      "metadata": {
        "id": "6HMKjtutUQr_"
      }
    },
    {
      "cell_type": "code",
      "source": [
        "#7.1\n",
        "\n",
        "año = int(input(\"Introduzca su año: \"))\n",
        "if(año % 4 == 0 and año % 100 != 0):\n",
        "  print(f\"{año} es bisiesto\")\n",
        "else:\n",
        "  if(año % 400 == 0):\n",
        "    print(f\"{año} es bisiesto\")\n",
        "  else:\n",
        "    print(f\"{año} no es bisiesto\")"
      ],
      "metadata": {
        "id": "P3J3DTEVUSDY"
      },
      "execution_count": null,
      "outputs": []
    },
    {
      "cell_type": "code",
      "source": [
        "año = int(input(\"Introduzca su año: \"))\n",
        "if(año % 4 == 0 and año % 100 != 0): print(f\"{año} es bisiesto\")\n",
        "elif(año % 400 == 0):print(f\"{año} es bisiesto\")\n",
        "else:print(f\"{año} no es bisiesto\")"
      ],
      "metadata": {
        "id": "5rCbe07-UaNZ"
      },
      "execution_count": null,
      "outputs": []
    },
    {
      "cell_type": "code",
      "source": [
        "#7.3\n",
        "\n",
        "año = int(input(\"Introduzca su año: \"))\n",
        "\n",
        "print(f\"{año} es bisiesto\") if(año % 4 == 0 and año % 100 != 0) else(print(f\"{año} es bisiesto\")if(año % 400 == 0)else print(f\"{año} no es bisiesto\") )"
      ],
      "metadata": {
        "id": "1yErtUFPXYMc"
      },
      "execution_count": null,
      "outputs": []
    },
    {
      "cell_type": "markdown",
      "source": [
        "ejercicio 8"
      ],
      "metadata": {
        "id": "vOPOQ4TkUclS"
      }
    },
    {
      "cell_type": "code",
      "source": [
        "8.1\n",
        "contra = input(\"Digite su contaseña: \")\n",
        "\n",
        "T8Letras = len(contra)>8\n",
        "TNumero = any(char.isdigit() for char in contra)\n",
        "TMayuscula = any(char.isupper() for char in contra)\n",
        "\n",
        "if(T8Letras == True and TNumero == True and TMayuscula == True):\n",
        "  print(\"Su contraseña es segura\")\n",
        "else:\n",
        "  print(\"Su contraseña no es segura\")"
      ],
      "metadata": {
        "colab": {
          "base_uri": "https://localhost:8080/"
        },
        "id": "e-jOiY-YYW-x",
        "outputId": "64d7dbde-d1a2-493d-dbe3-42c86cb855d9"
      },
      "execution_count": 19,
      "outputs": [
        {
          "output_type": "stream",
          "name": "stdout",
          "text": [
            "Digite su contaseña: jjjjj\n",
            "Su contraseña no es segura\n"
          ]
        }
      ]
    },
    {
      "cell_type": "code",
      "source": [
        "8.2\n",
        "contra = input(\"Digite su contaseña: \")\n",
        "\n",
        "T8Letras = len(contra)>8\n",
        "TNumero = any(char.isdigit() for char in contra)\n",
        "TMayuscula = any(char.isupper() for char in contra)\n",
        "\n",
        "if(T8Letras == True and TNumero == True and TMayuscula == True):\n",
        "  print(\"Su contraseña es segura.\")\n",
        "elif(T8Letras == True and TNumero == True):\n",
        "  print(\"A tu contraseña le falta la mayuscula.\")\n",
        "else:\n",
        "  print(\"Su contraseña no es segura.\")"
      ],
      "metadata": {
        "id": "RlqUeydeb2qG"
      },
      "execution_count": null,
      "outputs": []
    },
    {
      "cell_type": "code",
      "source": [
        "8.3\n",
        "contra = input(\"Digite su contaseña: \")\n",
        "\n",
        "T8Letras = len(contra)>8\n",
        "TNumero = any(char.isdigit() for char in contra)\n",
        "TMayuscula = any(char.isupper() for char in contra)\n",
        "\n",
        "print(\"Su contraseña es segura\") if(T8Letras == True and TNumero == True and TMayuscula == True) else print(\"Su contraseña no es segura\")"
      ],
      "metadata": {
        "id": "eZeIGxOmcDQr"
      },
      "execution_count": null,
      "outputs": []
    },
    {
      "cell_type": "markdown",
      "source": [
        "ejercicio 9"
      ],
      "metadata": {
        "id": "c1S-g-EIcJtX"
      }
    },
    {
      "cell_type": "code",
      "source": [
        "#9.3\n",
        "Numero= int(input(\"Digite el numero: \"))\n",
        "\n",
        "if (Numero % 3 == 0):\n",
        "  print(\"Fizz\")\n",
        "if (Numero % 5 == 0):\n",
        "  print(\"Bizz\")\n",
        "if (Numero % 3 == 0 and Numero % 5 == 0):\n",
        "  print(\"FizzBuzz\")\n",
        "else:\n",
        "  print(\"Su numero no cuadra con ninguno\")"
      ],
      "metadata": {
        "id": "Pm2af0xPcLFF"
      },
      "execution_count": null,
      "outputs": []
    },
    {
      "cell_type": "code",
      "source": [
        "#9.1\n",
        "Numero= int(input(\"Digite el numero: \"))\n",
        "\n",
        "if (Numero % 3 == 0):\n",
        "  print(\"Fizz\")\n",
        "elif (Numero % 5 == 0):\n",
        "  print(\"Bizz\")\n",
        "elif (Numero % 3 == 0 and Numero % 5 == 0):\n",
        "  print(\"FizzBuzz\")\n",
        "else:\n",
        "  print(\"Su numero no cuadra con ninguno\")"
      ],
      "metadata": {
        "id": "Xkl7BPjuc2m_"
      },
      "execution_count": null,
      "outputs": []
    },
    {
      "cell_type": "code",
      "source": [
        "#9.3\n",
        "Numero= int(input(\"Digite el numero: \"))\n",
        "\n",
        "print(\"Fizz\") if (Numero % 3 == 0)\n",
        "print(\"Bizz\") if (Numero % 5 == 0)\n",
        "print(\"FizzBuzz\") if (Numero % 3 == 0 and Numero % 5 == 0) else print(\"Su numero no cuadra con ninguno\")"
      ],
      "metadata": {
        "id": "i-mjqBqjc7BH"
      },
      "execution_count": null,
      "outputs": []
    },
    {
      "cell_type": "markdown",
      "source": [
        "ejercicio 10"
      ],
      "metadata": {
        "id": "zRk701FRdy6Q"
      }
    },
    {
      "cell_type": "code",
      "source": [],
      "metadata": {
        "id": "Zp4qr3Wbd0Jg"
      },
      "execution_count": null,
      "outputs": []
    }
  ]
}